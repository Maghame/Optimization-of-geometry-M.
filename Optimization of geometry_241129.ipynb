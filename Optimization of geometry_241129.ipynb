{
 "cells": [
  {
   "cell_type": "markdown",
   "id": "cd1b3c2e-4b44-4dfe-8bfd-2ae7c3e1fafc",
   "metadata": {},
   "source": [
    "# <a id='toc1_'></a>[Geometry Optimisation](#toc0_)\n",
    "\n",
    "1. **A. Maghamé Foumkpou**, aissatou.maghame@facsciences-uy1.cm\n",
    "     * Department of Physics, Faculty of Science, University of Yaoundé I\n",
    "2. **J-P. Tchapet Njafa**, jean-pierre.tchapet-njafa@univ-maroua.cm\n",
    "    * Department of Physics, Faculty of Science, University of Yaoundé I\n",
    "\n",
    "December 2024"
   ]
  },
  {
   "cell_type": "markdown",
   "id": "36cdde54-7dbb-4c49-ba8e-40fe07850066",
   "metadata": {},
   "source": [
    "## Introduction\n",
    "\n",
    "L'**optimisation de la structure géométrique** consiste à ajuster la géométrie d'une molécule afin de trouver une structure présentant l'énergie la plus basse possible. Cette structure optimisée correspond généralement à une configuration stable, représentant soit un minimum local (une espèce stable) soit un état de transition (une configuration à haute énergie entre deux espèces stables). Celle-ci permet d'obtenir une meilleure concordance entre les calculs théoriques et les mesures expérimentales.  \n",
    "\n",
    "Dans ce tutoriel, nous utilisons les modules suivants :\n",
    "\n",
    " \n",
    "* [RDKit](https://github.com/rdkit) (Open-Source Cheminformatics Software),\n",
    "* [xTB](https://xtb-docs.readthedocs.io/en/latest/) (Semiempirical Extended Tight-Binding Program Package) et\n",
    "* [CREST](https://xtb-docs.readthedocs.io/en/latest/) (Conformer-Rotamer Ensemble Sampling Tool based on the xtb Semiempirical Extended Tight-Binding Program Package) : des outils de chimie computationnelle et de modélisation moléculaire.\n",
    "\n",
    "### Voici un aperçu de ce que fait chacun de ces modules :\n",
    "\n",
    "\n",
    "**RDKit**  :\n",
    "* Représentation et manipulation de molécules et de bases de données de composés chimiques ;\n",
    "* Calcul de descripteurs moléculaires.\n",
    "* Génération et optimisation de conformations.\n",
    "* Prédiction de propriétés physico-chimiques et biologiques.           \n",
    "\n",
    "**XTB**  :\n",
    "* Calcul d'optimisation de géométrie et d'énergie de molécules;\n",
    "* Simulation de structures électroniques (orbitales moléculaires, charges partielles, etc.);\n",
    "* Calcul de propriétés thermodynamiques (enthalpie, entropie, énergie libre);\n",
    "* Analyse vibrationnelle (fréquences de vibration, modes normaux);\n",
    "* Modélisation de réactions chimiques et de mécanismes réactionnels.\n",
    "\n",
    "**CREST**  :\n",
    "* Génération d'ensembles de conformères de molécules flexibles ;\n",
    "* Optimisation et ranking des conformères en fonction de leur énergie ;\n",
    "* Prise en compte des effets conformationnels dans l'analyse de structures et de propriétés; \n",
    "* Intégration avec d'autres logiciels de modélisation moléculaire (par exemple, RDKit, XTB).\n",
    "\n",
    "Ces trois modules sont très utilisés dans divers domaines de la chimie computationnelle, tels que la découverte de médicaments, la conception moléculaire, la chimie théorique, l'analyse structurale et la prédiction de propriétés.\n",
    "\n",
    "L'objectif de ce tutoriel est d'optimiser une molécule organique hétérocyclique qui appartient à la classe des oxazoles, le **1,2-oxazole (C<sub>3</sub>H<sub>3</sub>NO)**  à partir de son SMILES (`C1=CON=C1`), d'extraire le **gap HOMO-LUMO**, puis d'effectuer les calculs HF et DFT.\n"
   ]
  },
  {
   "cell_type": "markdown",
   "id": "8230fea1-9169-4b1e-86ff-29e03f5e9d2e",
   "metadata": {},
   "source": [
    "# Plan de travail\n",
    "\n",
    "## Répertoire de sauvegarde des fichiers\n",
    "## Représenter la structure géométrique initiale avec RDKit \n",
    "* 2D\n",
    "* 3D non optimisée\n",
    "* 3D pré-optimisée avec MMFF94s\n",
    "\n",
    "## Utilisation des outils xTB, CREST\n",
    "### Pré-optimisation avec xTB sur la molécule optimisée par RDKit\n",
    "* Sauvegarde de la structure pré-optimisée\n",
    "* Visualisation\n",
    "\n",
    "### Recherche du meilleur conformère avec CREST\n",
    "\n",
    "### Optimisation avec xTB sur le meilleur conformère de la molécule\n",
    "\n",
    "### Extraction du gap HOMO-LUMO\n",
    "\n",
    "\n",
    "## Écart quadratique moyen entre les positions des atomes (RMSD) et interprétation \n",
    "\n"
   ]
  },
  {
   "cell_type": "markdown",
   "id": "791c1731-a379-436c-8a87-9bba68b45b37",
   "metadata": {},
   "source": [
    "### La molécule utilisée pour ce travail est: 1,2-oxazole\n",
    "\n",
    "Généralement sous forme de liquide incolore à température ambiante, **1,2-oxazole** est un composé organique hétérocyclique qui appartient à la classe des oxazoles. Il peut également être obtenu sous forme solide cristalline et est constitué d'un anneau à cinq atomes comportant deux atomes d'azote (N) et un atome d'oxygène (O), qui sont reliés aux atomes de carbone adjacents. La formule chimique du 1,2-oxazole est **C<sub>3</sub>H<sub>3</sub>NO**."
   ]
  },
  {
   "cell_type": "markdown",
   "id": "78752118-8283-42c9-a29a-6d89da9959d3",
   "metadata": {},
   "source": [
    "## Répertoire de sauvegarde des fichiers"
   ]
  },
  {
   "cell_type": "code",
   "execution_count": 1,
   "id": "4a62ba75-1c84-487e-9694-5641b3559770",
   "metadata": {},
   "outputs": [],
   "source": [
    "from pathlib import Path  #Pour manipuler les chemins de fichiers de manière plus pratique"
   ]
  },
  {
   "cell_type": "code",
   "execution_count": 2,
   "id": "7c82b897-019f-4060-9c4e-7ec7ebc745a5",
   "metadata": {},
   "outputs": [],
   "source": [
    "# Verify if the \"data\" subdirectory exist and if not, create it\n",
    "\n",
    "data_dir = Path('./dataGeo_opt')  # Cette ligne crée un objet Path représentant le chemin du sous-répertoire 'dataxTB' dans le répertoire courant (.)\n",
    "data_dir.mkdir(exist_ok=True)\n"
   ]
  },
  {
   "cell_type": "markdown",
   "id": "07ffd2e5-e9cb-4932-95d0-f8ff1477d845",
   "metadata": {},
   "source": [
    "La ligne `data_dir.mkdir(exist_ok=True)` vérifie si le répertoire `dataxTB` existe déjà. Si ce n'est pas le cas, elle crée ce répertoire.\n",
    "\n",
    "La méthode `mkdir()` du module pathlib. Path permet de créer un nouveau répertoire et l'argument `exist_ok=True` indique que si le répertoire existe déjà, la méthode ne lève pas d'erreur et continue simplement."
   ]
  },
  {
   "cell_type": "markdown",
   "id": "01162840-48e1-43c8-9f98-979848c6c673",
   "metadata": {},
   "source": [
    "## Représentation la structure géométrique initiale à partir de son SMILES (Simplified Molecular Input Line Entry System) `C1=CON=C1` avec RDKit "
   ]
  },
  {
   "cell_type": "code",
   "execution_count": 3,
   "id": "e4112b71-344a-4d1a-bf3b-3eeecb888c65",
   "metadata": {},
   "outputs": [
    {
     "data": {
      "text/plain": [
       "'2024.03.6'"
      ]
     },
     "execution_count": 3,
     "metadata": {},
     "output_type": "execute_result"
    }
   ],
   "source": [
    "#  Importons les modules et classes nécessaires\n",
    "\n",
    "import rdkit\n",
    "from rdkit import Chem\n",
    "from rdkit.Chem import AllChem, Draw\n",
    "from rdkit.Chem import MolFromSmiles, Descriptors \n",
    "\n",
    "rdkit.__version__"
   ]
  },
  {
   "cell_type": "markdown",
   "id": "616c9244-b388-4a93-b84c-93e73f0bce09",
   "metadata": {},
   "source": [
    "### 2D"
   ]
  },
  {
   "cell_type": "code",
   "execution_count": 4,
   "id": "90a30a54-fea7-4fba-9e17-85aa3397832c",
   "metadata": {},
   "outputs": [
    {
     "data": {
      "image/png": "[encoded data removed]",
      "text/plain": [
       "<rdkit.Chem.rdchem.Mol at 0x769ef3b5a2d0>"
      ]
     },
     "execution_count": 4,
     "metadata": {},
     "output_type": "execute_result"
    }
   ],
   "source": [
    "smile = 'C1=CON=C1' # Carbazole \n",
    "smi_key = 'Oxazole'\n",
    "\n",
    "# Defines a molecule from its SMILES string\n",
    "mol_rdkitNop = Chem.MolFromSmiles(smile)\n",
    "mol_rdkitNop"
   ]
  },
  {
   "cell_type": "code",
   "execution_count": 5,
   "id": "0f9e9efd-7481-492c-9214-ecf8eb0141f6",
   "metadata": {},
   "outputs": [
    {
     "data": {
      "image/png": "[encoded data removed]",
      "text/plain": [
       "<rdkit.Chem.rdchem.Mol at 0x769ef3b5a3b0>"
      ]
     },
     "execution_count": 5,
     "metadata": {},
     "output_type": "execute_result"
    }
   ],
   "source": [
    "# Add explicit Hs\n",
    "mol_rdkitNop= AllChem.AddHs(mol_rdkitNop) \n",
    "mol_rdkitNop"
   ]
  },
  {
   "cell_type": "markdown",
   "id": "4878a646-2d2b-4a75-ad0a-bd70abe0a420",
   "metadata": {},
   "source": [
    "### Descripteurs"
   ]
  },
  {
   "cell_type": "code",
   "execution_count": 6,
   "id": "eb0c25ec-8635-42e6-96a3-487db75b3df5",
   "metadata": {},
   "outputs": [
    {
     "name": "stdout",
     "output_type": "stream",
     "text": [
      "Some molecular properties are :\n",
      " Molecular weight:69.021463716, \n",
      " polarity:26.03, \n",
      " solubility:0.6746, \n",
      " Hbd:0, \n",
      " Hba:2\n"
     ]
    }
   ],
   "source": [
    "from rdkit.Chem import Descriptors\n",
    "\n",
    "molwt = Descriptors.ExactMolWt(mol_rdkitNop)\n",
    "logP = Descriptors.MolLogP(mol_rdkitNop)\n",
    "tpsa = Descriptors.TPSA(mol_rdkitNop)\n",
    "Polarity = Descriptors.TPSA(mol_rdkitNop)\n",
    "Solubility = Descriptors.MolLogP(mol_rdkitNop)\n",
    "hbd = Descriptors.NumHDonors(mol_rdkitNop)\n",
    "hba = Descriptors.NumHAcceptors(mol_rdkitNop)\n",
    "\n",
    "print(f'Some molecular properties are :\\n Molecular weight:{molwt}, \\n polarity:{tpsa}, \\n solubility:{logP}, \\n Hbd:{hbd}, \\n Hba:{hba}')  "
   ]
  },
  {
   "cell_type": "markdown",
   "id": "2ea9995b-a731-4e57-acc5-6a7c85cc347f",
   "metadata": {},
   "source": [
    "### Visualisation 3D de la structure non optimisée"
   ]
  },
  {
   "cell_type": "code",
   "execution_count": 7,
   "id": "08f9c50c-8b05-4d2b-994f-d109ad98014c",
   "metadata": {},
   "outputs": [
    {
     "data": {
      "text/plain": [
       "'2.0.4'"
      ]
     },
     "execution_count": 7,
     "metadata": {},
     "output_type": "execute_result"
    }
   ],
   "source": [
    "# For 3D plotting\n",
    "import py3Dmol\n",
    "\n",
    "py3Dmol.__version__"
   ]
  },
  {
   "cell_type": "code",
   "execution_count": 8,
   "id": "70c29008-32a0-4c88-b0cc-8dc036d4c2b3",
   "metadata": {},
   "outputs": [
    {
     "data": {
      "text/plain": [
       "PosixPath('dataGeo_opt/Oxazole')"
      ]
     },
     "execution_count": 8,
     "metadata": {},
     "output_type": "execute_result"
    }
   ],
   "source": [
    "# Verify if the \"./dataGeo_opt{smi_key}\" subdirectory exist and if not, create it\n",
    "working_dir = Path(f'{data_dir}/{smi_key}')\n",
    "\n",
    "# Create the output directory if it doesn't exist\n",
    "working_dir.mkdir(parents=True, exist_ok=True)\n",
    "\n",
    "#Checking\n",
    "working_dir"
   ]
  },
  {
   "cell_type": "code",
   "execution_count": 9,
   "id": "97b105fe-4165-43f6-9858-6ef5f6b7d394",
   "metadata": {},
   "outputs": [],
   "source": [
    "# Fonction défini pour aider à la visualisation 3D\n",
    "def view3D(mol, label, fmt='mol'):\n",
    "        \"\"\"3D vizualisation of mol/xyz file with Py3DMol\n",
    "        \"\"\"\n",
    "\n",
    "        view = py3Dmol.view(width=400, height=400)\n",
    "\n",
    "        if fmt=='mol':\n",
    "            view.addModel(Chem.MolToMolBlock(mol), fmt)\n",
    "            # view.addModel(mol, fmt)\n",
    "        elif fmt=='xyz':\n",
    "            view.addModel(mol, fmt)\n",
    "\n",
    "        view.setStyle({'stick': {}, 'sphere': {'scale': .30}})\n",
    "        view.addLabel(label, {'position': {'x': -2, 'y': -3, 'z': 0}})\n",
    "\n",
    "        view.zoomTo()\n",
    "        view.show()"
   ]
  },
  {
   "cell_type": "code",
   "execution_count": 10,
   "id": "b77e2d04-1225-4558-9d92-aa7cc5a185ce",
   "metadata": {},
   "outputs": [
    {
     "data": {
      "application/3dmoljs_load.v0": "<div id=\"3dmolviewer_17335928887538123\"  style=\"position: relative; width: 400px; height: 400px;\">\n        <p id=\"3dmolwarning_17335928887538123\" style=\"background-color:#ffcccc;color:black\">You appear to be running in JupyterLab (or JavaScript failed to load for some other reason).  You need to install the 3dmol extension: <br>\n        <tt>jupyter labextension install jupyterlab_3dmol</tt></p>\n        </div>\n<script>\n\nvar loadScriptAsync = function(uri){\n  return new Promise((resolve, reject) => {\n    //this is to ignore the existence of requirejs amd\n    var savedexports, savedmodule;\n    if (typeof exports !== 'undefined') savedexports = exports;\n    else exports = {}\n    if (typeof module !== 'undefined') savedmodule = module;\n    else module = {}\n\n    var tag = document.createElement('script');\n    tag.src = uri;\n    tag.async = true;\n    tag.onload = () => {\n        exports = savedexports;\n        module = savedmodule;\n        resolve();\n    };\n  var firstScriptTag = document.getElementsByTagName('script')[0];\n  firstScriptTag.parentNode.insertBefore(tag, firstScriptTag);\n});\n};\n\nif(typeof $3Dmolpromise === 'undefined') {\n$3Dmolpromise = null;\n  $3Dmolpromise = loadScriptAsync('https://cdnjs.cloudflare.com/ajax/libs/3Dmol/2.0.4/3Dmol-min.js');\n}\n\nvar viewer_17335928887538123 = null;\nvar warn = document.getElementById(\"3dmolwarning_17335928887538123\");\nif(warn) {\n    warn.parentNode.removeChild(warn);\n}\n$3Dmolpromise.then(function() {\nviewer_17335928887538123 = $3Dmol.createViewer(document.getElementById(\"3dmolviewer_17335928887538123\"),{backgroundColor:\"white\"});\nviewer_17335928887538123.zoomTo();\n\tviewer_17335928887538123.addModel(\"\\n     RDKit          3D\\n\\n  8  8  0  0  0  0  0  0  0  0999 V2000\\n    0.0002    0.7314   -0.0020 C   0  0  0  0  0  0  0  0  0  0  0  0\\n   -1.0986   -0.1070   -0.0484 C   0  0  0  0  0  0  0  0  0  0  0  0\\n   -0.6636   -1.3420   -0.0258 O   0  0  0  0  0  0  0  0  0  0  0  0\\n    0.6366   -1.3608    0.0319 N   0  0  0  0  0  0  0  0  0  0  0  0\\n    1.1259   -0.0926    0.0502 C   0  0  0  0  0  0  0  0  0  0  0  0\\n   -0.0241    1.7987   -0.0060 H   0  0  0  0  0  0  0  0  0  0  0  0\\n   -2.1465    0.1578   -0.0956 H   0  0  0  0  0  0  0  0  0  0  0  0\\n    2.1700    0.2144    0.0956 H   0  0  0  0  0  0  0  0  0  0  0  0\\n  1  2  2  0\\n  2  3  1  0\\n  3  4  1  0\\n  4  5  2  0\\n  5  1  1  0\\n  1  6  1  0\\n  2  7  1  0\\n  5  8  1  0\\nM  END\\n\",\"mol\");\n\tviewer_17335928887538123.setStyle({\"stick\": {}, \"sphere\": {\"scale\": 0.3}});\n\tviewer_17335928887538123.addLabel(\"Oxazole_3D_Nop\",{\"position\": {\"x\": -2, \"y\": -3, \"z\": 0}});\n\tviewer_17335928887538123.zoomTo();\nviewer_17335928887538123.render();\n});\n</script>",
      "text/html": [
       "<div id=\"3dmolviewer_17335928887538123\"  style=\"position: relative; width: 400px; height: 400px;\">\n",
       "        <p id=\"3dmolwarning_17335928887538123\" style=\"background-color:#ffcccc;color:black\">You appear to be running in JupyterLab (or JavaScript failed to load for some other reason).  You need to install the 3dmol extension: <br>\n",
       "        <tt>jupyter labextension install jupyterlab_3dmol</tt></p>\n",
       "        </div>\n",
       "<script>\n",
       "\n",
       "var loadScriptAsync = function(uri){\n",
       "  return new Promise((resolve, reject) => {\n",
       "    //this is to ignore the existence of requirejs amd\n",
       "    var savedexports, savedmodule;\n",
       "    if (typeof exports !== 'undefined') savedexports = exports;\n",
       "    else exports = {}\n",
       "    if (typeof module !== 'undefined') savedmodule = module;\n",
       "    else module = {}\n",
       "\n",
       "    var tag = document.createElement('script');\n",
       "    tag.src = uri;\n",
       "    tag.async = true;\n",
       "    tag.onload = () => {\n",
       "        exports = savedexports;\n",
       "        module = savedmodule;\n",
       "        resolve();\n",
       "    };\n",
       "  var firstScriptTag = document.getElementsByTagName('script')[0];\n",
       "  firstScriptTag.parentNode.insertBefore(tag, firstScriptTag);\n",
       "});\n",
       "};\n",
       "\n",
       "if(typeof $3Dmolpromise === 'undefined') {\n",
       "$3Dmolpromise = null;\n",
       "  $3Dmolpromise = loadScriptAsync('https://cdnjs.cloudflare.com/ajax/libs/3Dmol/2.0.4/3Dmol-min.js');\n",
       "}\n",
       "\n",
       "var viewer_17335928887538123 = null;\n",
       "var warn = document.getElementById(\"3dmolwarning_17335928887538123\");\n",
       "if(warn) {\n",
       "    warn.parentNode.removeChild(warn);\n",
       "}\n",
       "$3Dmolpromise.then(function() {\n",
       "viewer_17335928887538123 = $3Dmol.createViewer(document.getElementById(\"3dmolviewer_17335928887538123\"),{backgroundColor:\"white\"});\n",
       "viewer_17335928887538123.zoomTo();\n",
       "\tviewer_17335928887538123.addModel(\"\\n     RDKit          3D\\n\\n  8  8  0  0  0  0  0  0  0  0999 V2000\\n    0.0002    0.7314   -0.0020 C   0  0  0  0  0  0  0  0  0  0  0  0\\n   -1.0986   -0.1070   -0.0484 C   0  0  0  0  0  0  0  0  0  0  0  0\\n   -0.6636   -1.3420   -0.0258 O   0  0  0  0  0  0  0  0  0  0  0  0\\n    0.6366   -1.3608    0.0319 N   0  0  0  0  0  0  0  0  0  0  0  0\\n    1.1259   -0.0926    0.0502 C   0  0  0  0  0  0  0  0  0  0  0  0\\n   -0.0241    1.7987   -0.0060 H   0  0  0  0  0  0  0  0  0  0  0  0\\n   -2.1465    0.1578   -0.0956 H   0  0  0  0  0  0  0  0  0  0  0  0\\n    2.1700    0.2144    0.0956 H   0  0  0  0  0  0  0  0  0  0  0  0\\n  1  2  2  0\\n  2  3  1  0\\n  3  4  1  0\\n  4  5  2  0\\n  5  1  1  0\\n  1  6  1  0\\n  2  7  1  0\\n  5  8  1  0\\nM  END\\n\",\"mol\");\n",
       "\tviewer_17335928887538123.setStyle({\"stick\": {}, \"sphere\": {\"scale\": 0.3}});\n",
       "\tviewer_17335928887538123.addLabel(\"Oxazole_3D_Nop\",{\"position\": {\"x\": -2, \"y\": -3, \"z\": 0}});\n",
       "\tviewer_17335928887538123.zoomTo();\n",
       "viewer_17335928887538123.render();\n",
       "});\n",
       "</script>"
      ]
     },
     "metadata": {},
     "output_type": "display_data"
    }
   ],
   "source": [
    "# Add explicit Hs\n",
    "mol_rdkitNop3D = Chem.AddHs(mol_rdkitNop)\n",
    "\n",
    "# Generates the initial 3D conformation of the molecule\n",
    "AllChem.EmbedMolecule(mol_rdkitNop3D) # génére une conformation 3D à partir d'une représentation 2D d'une molécule\n",
    "\n",
    "# 3D visualization\n",
    "view3D(mol_rdkitNop3D, f'{smi_key}_3D_Nop')"
   ]
  },
  {
   "cell_type": "markdown",
   "id": "fd150e69-014b-4540-8b15-3cca60d013ae",
   "metadata": {},
   "source": [
    "### Conversion du format de données (la molécule RDKit) vers un autre format xyz"
   ]
  },
  {
   "cell_type": "code",
   "execution_count": 11,
   "id": "09deb4f2-c327-4703-9af4-41150d4f9a0c",
   "metadata": {},
   "outputs": [],
   "source": [
    "# Sauvegarde de cette structure non optimisée dans un fichier .xyz\n",
    "path_rdkitNop_xyz = working_dir / f'{smi_key}_rdkitNop.xyz'\n",
    "\n",
    "# Convert RDKit molecule to XYZ format \n",
    "mol_xyzNop0 = Chem.MolToXYZBlock(mol_rdkitNop3D)\n",
    "\n",
    "with open(path_rdkitNop_xyz, \"w\") as f:\n",
    "    f.write(mol_xyzNop0)"
   ]
  },
  {
   "cell_type": "code",
   "execution_count": 12,
   "id": "87d14dfd-8e90-4b4b-978a-b7e4bcada578",
   "metadata": {},
   "outputs": [
    {
     "name": "stdout",
     "output_type": "stream",
     "text": [
      "8\n",
      "\n",
      "C      0.000239    0.731375   -0.001986\n",
      "C     -1.098566   -0.106954   -0.048413\n",
      "O     -0.663602   -1.342027   -0.025757\n",
      "N      0.636611   -1.360792    0.031938\n",
      "C      1.125910   -0.092628    0.050169\n",
      "H     -0.024063    1.798740   -0.005971\n",
      "H     -2.146540    0.157849   -0.095596\n",
      "H      2.170011    0.214436    0.095616\n",
      "\n"
     ]
    }
   ],
   "source": [
    "print(f'{mol_xyzNop0}')"
   ]
  },
  {
   "cell_type": "code",
   "execution_count": 13,
   "id": "8565cc7f-0610-4b42-a65e-5757514f9a66",
   "metadata": {},
   "outputs": [
    {
     "name": "stdout",
     "output_type": "stream",
     "text": [
      "C      0.000239    0.731375   -0.001986\n",
      "C     -1.098566   -0.106954   -0.048413\n",
      "O     -0.663602   -1.342027   -0.025757\n",
      "N      0.636611   -1.360792    0.031938\n",
      "C      1.125910   -0.092628    0.050169\n",
      "H     -0.024063    1.798740   -0.005971\n",
      "H     -2.146540    0.157849   -0.095596\n",
      "H      2.170011    0.214436    0.095616\n"
     ]
    }
   ],
   "source": [
    "# Si l'on veut utiliser cette structure pour un calcul DFT, on retire les deux premières ligne\n",
    "\n",
    "mol_xyz0 = '\\n'.join(mol_xyzNop0.strip().split('\\n')[2:])\n",
    "\n",
    "print(mol_xyz0)"
   ]
  },
  {
   "cell_type": "markdown",
   "id": "98378f3a-4c67-4522-8580-752b47adab70",
   "metadata": {},
   "source": [
    "## Pré-optimisation avec MMFF94s et visualisation de la structure 3D\n",
    "\n",
    "\n",
    "**Champs de force empiriques** :\n",
    "* AMBER (Assisted Model Building with Energy Refinement): Développé pour les biomolécules (protéines, acides nucléiques), mais aussi utilisé pour d'autres molécules organiques;\n",
    "* CHARMM (Chemistry at HARvard Macromolecular Mechanics): Initialement développé pour les biomolécules, mais étendu à d'autres systèmes;\n",
    "* OPLS (Optimized Potentials for Liquid Simulations): Optimisé pour la simulation de liquides et de solutions;\n",
    "* UFF (Universal Force Field): Champ de force généraliste, applicable à une large gamme de molécules.\n",
    "\n",
    "**Champs de force semi-empiriques**:\n",
    "* MMFF (Merck Molecular Force Field): Famille de champs de force développés par Merck, avec différentes variantes comme MMFF94 et MMFF94s;\n",
    "* CFF (Consistent Force Field): Champ de force développé pour les molécules organiques;\n",
    "* MM3/MM4: Versions améliorées du champ de force MM2 original.\n",
    "\n",
    "**Champs de force ab initio**:\n",
    "* AMOEBA (Atomic Multipole Optimized Energetics for Biomolecular Applications): Champ de force polarisable, avec une meilleure description des interactions électrostatiques\n",
    "* QM/MM (Quantum Mechanics/Molecular Mechanics): Approche hybride combinant des méthodes de mécanique quantique (QM) et de mécanique moléculaire (MM).\n",
    "\n",
    "Nous utilisons une méthode d'optimisation basée sur le champs de force **MMFF94s** car très performant, parametré specifiquement pour les molecules organiques et largement utilisé en chimie computationnelle, grâce à sa précision améliorée et à son domaine d'application étendu."
   ]
  },
  {
   "cell_type": "code",
   "execution_count": 14,
   "id": "9e2ec646-2334-43a0-9606-8fc7fd4cc1b0",
   "metadata": {},
   "outputs": [
    {
     "data": {
      "application/3dmoljs_load.v0": "<div id=\"3dmolviewer_17335928892004387\"  style=\"position: relative; width: 400px; height: 400px;\">\n        <p id=\"3dmolwarning_17335928892004387\" style=\"background-color:#ffcccc;color:black\">You appear to be running in JupyterLab (or JavaScript failed to load for some other reason).  You need to install the 3dmol extension: <br>\n        <tt>jupyter labextension install jupyterlab_3dmol</tt></p>\n        </div>\n<script>\n\nvar loadScriptAsync = function(uri){\n  return new Promise((resolve, reject) => {\n    //this is to ignore the existence of requirejs amd\n    var savedexports, savedmodule;\n    if (typeof exports !== 'undefined') savedexports = exports;\n    else exports = {}\n    if (typeof module !== 'undefined') savedmodule = module;\n    else module = {}\n\n    var tag = document.createElement('script');\n    tag.src = uri;\n    tag.async = true;\n    tag.onload = () => {\n        exports = savedexports;\n        module = savedmodule;\n        resolve();\n    };\n  var firstScriptTag = document.getElementsByTagName('script')[0];\n  firstScriptTag.parentNode.insertBefore(tag, firstScriptTag);\n});\n};\n\nif(typeof $3Dmolpromise === 'undefined') {\n$3Dmolpromise = null;\n  $3Dmolpromise = loadScriptAsync('https://cdnjs.cloudflare.com/ajax/libs/3Dmol/2.0.4/3Dmol-min.js');\n}\n\nvar viewer_17335928892004387 = null;\nvar warn = document.getElementById(\"3dmolwarning_17335928892004387\");\nif(warn) {\n    warn.parentNode.removeChild(warn);\n}\n$3Dmolpromise.then(function() {\nviewer_17335928892004387 = $3Dmol.createViewer(document.getElementById(\"3dmolviewer_17335928892004387\"),{backgroundColor:\"white\"});\nviewer_17335928892004387.zoomTo();\n\tviewer_17335928892004387.addModel(\"\\n     RDKit          3D\\n\\n  8  8  0  0  0  0  0  0  0  0999 V2000\\n   -0.0144    0.7818   -0.0000 C   0  0  0  0  0  0  0  0  0  0  0  0\\n   -1.0932   -0.0632    0.0000 C   0  0  0  0  0  0  0  0  0  0  0  0\\n   -0.6636   -1.3503   -0.0000 O   0  0  0  0  0  0  0  0  0  0  0  0\\n    0.7232   -1.3691   -0.0000 N   0  0  0  0  0  0  0  0  0  0  0  0\\n    1.0918   -0.0858   -0.0000 C   0  0  0  0  0  0  0  0  0  0  0  0\\n   -0.0251    1.8606   -0.0000 H   0  0  0  0  0  0  0  0  0  0  0  0\\n   -2.1645    0.0715    0.0000 H   0  0  0  0  0  0  0  0  0  0  0  0\\n    2.1457    0.1545    0.0000 H   0  0  0  0  0  0  0  0  0  0  0  0\\n  1  2  2  0\\n  2  3  1  0\\n  3  4  1  0\\n  4  5  2  0\\n  5  1  1  0\\n  1  6  1  0\\n  2  7  1  0\\n  5  8  1  0\\nM  END\\n\",\"mol\");\n\tviewer_17335928892004387.setStyle({\"stick\": {}, \"sphere\": {\"scale\": 0.3}});\n\tviewer_17335928892004387.addLabel(\"Oxazole RDKit Molecule MMFF94s\",{\"position\": {\"x\": -2, \"y\": -3, \"z\": 0}});\n\tviewer_17335928892004387.zoomTo();\nviewer_17335928892004387.render();\n});\n</script>",
      "text/html": [
       "<div id=\"3dmolviewer_17335928892004387\"  style=\"position: relative; width: 400px; height: 400px;\">\n",
       "        <p id=\"3dmolwarning_17335928892004387\" style=\"background-color:#ffcccc;color:black\">You appear to be running in JupyterLab (or JavaScript failed to load for some other reason).  You need to install the 3dmol extension: <br>\n",
       "        <tt>jupyter labextension install jupyterlab_3dmol</tt></p>\n",
       "        </div>\n",
       "<script>\n",
       "\n",
       "var loadScriptAsync = function(uri){\n",
       "  return new Promise((resolve, reject) => {\n",
       "    //this is to ignore the existence of requirejs amd\n",
       "    var savedexports, savedmodule;\n",
       "    if (typeof exports !== 'undefined') savedexports = exports;\n",
       "    else exports = {}\n",
       "    if (typeof module !== 'undefined') savedmodule = module;\n",
       "    else module = {}\n",
       "\n",
       "    var tag = document.createElement('script');\n",
       "    tag.src = uri;\n",
       "    tag.async = true;\n",
       "    tag.onload = () => {\n",
       "        exports = savedexports;\n",
       "        module = savedmodule;\n",
       "        resolve();\n",
       "    };\n",
       "  var firstScriptTag = document.getElementsByTagName('script')[0];\n",
       "  firstScriptTag.parentNode.insertBefore(tag, firstScriptTag);\n",
       "});\n",
       "};\n",
       "\n",
       "if(typeof $3Dmolpromise === 'undefined') {\n",
       "$3Dmolpromise = null;\n",
       "  $3Dmolpromise = loadScriptAsync('https://cdnjs.cloudflare.com/ajax/libs/3Dmol/2.0.4/3Dmol-min.js');\n",
       "}\n",
       "\n",
       "var viewer_17335928892004387 = null;\n",
       "var warn = document.getElementById(\"3dmolwarning_17335928892004387\");\n",
       "if(warn) {\n",
       "    warn.parentNode.removeChild(warn);\n",
       "}\n",
       "$3Dmolpromise.then(function() {\n",
       "viewer_17335928892004387 = $3Dmol.createViewer(document.getElementById(\"3dmolviewer_17335928892004387\"),{backgroundColor:\"white\"});\n",
       "viewer_17335928892004387.zoomTo();\n",
       "\tviewer_17335928892004387.addModel(\"\\n     RDKit          3D\\n\\n  8  8  0  0  0  0  0  0  0  0999 V2000\\n   -0.0144    0.7818   -0.0000 C   0  0  0  0  0  0  0  0  0  0  0  0\\n   -1.0932   -0.0632    0.0000 C   0  0  0  0  0  0  0  0  0  0  0  0\\n   -0.6636   -1.3503   -0.0000 O   0  0  0  0  0  0  0  0  0  0  0  0\\n    0.7232   -1.3691   -0.0000 N   0  0  0  0  0  0  0  0  0  0  0  0\\n    1.0918   -0.0858   -0.0000 C   0  0  0  0  0  0  0  0  0  0  0  0\\n   -0.0251    1.8606   -0.0000 H   0  0  0  0  0  0  0  0  0  0  0  0\\n   -2.1645    0.0715    0.0000 H   0  0  0  0  0  0  0  0  0  0  0  0\\n    2.1457    0.1545    0.0000 H   0  0  0  0  0  0  0  0  0  0  0  0\\n  1  2  2  0\\n  2  3  1  0\\n  3  4  1  0\\n  4  5  2  0\\n  5  1  1  0\\n  1  6  1  0\\n  2  7  1  0\\n  5  8  1  0\\nM  END\\n\",\"mol\");\n",
       "\tviewer_17335928892004387.setStyle({\"stick\": {}, \"sphere\": {\"scale\": 0.3}});\n",
       "\tviewer_17335928892004387.addLabel(\"Oxazole RDKit Molecule MMFF94s\",{\"position\": {\"x\": -2, \"y\": -3, \"z\": 0}});\n",
       "\tviewer_17335928892004387.zoomTo();\n",
       "viewer_17335928892004387.render();\n",
       "});\n",
       "</script>"
      ]
     },
     "metadata": {},
     "output_type": "display_data"
    }
   ],
   "source": [
    "# Optimizes the 3D conformation of the molecule using MMFF - Merck Molecular Force Field\n",
    "mol_rdkitOp3D = mol_rdkitNop3D\n",
    "AllChem.MMFFOptimizeMolecule(mol_rdkitOp3D, maxIters = 450, mmffVariant = \"MMFF94s\")\n",
    "\n",
    "#Canonicalize the orientation of the conformation\n",
    "Chem.rdMolTransforms.CanonicalizeMol(mol_rdkitOp3D, normalizeCovar=True, ignoreHs=False)\n",
    "\n",
    "# 3D visualization\n",
    "view3D(mol_rdkitOp3D, f'{smi_key} RDKit Molecule MMFF94s')"
   ]
  },
  {
   "cell_type": "code",
   "execution_count": 15,
   "id": "74acdd4d-6086-48b7-9252-6d09a522f4f2",
   "metadata": {},
   "outputs": [],
   "source": [
    "# Sauvegarde de cette structure non optimisée dans un fichier .xyz\n",
    "path_rdkitOp_xyz = working_dir / f'{smi_key}_rdkitOp.xyz'\n",
    "\n",
    "# Convert RDKit molecule to XYZ format \n",
    "mol_xyzOp0 = Chem.MolToXYZBlock(mol_rdkitOp3D)\n",
    "\n",
    "with open(path_rdkitOp_xyz, \"w\") as f:\n",
    "    f.write(mol_xyzOp0)"
   ]
  },
  {
   "cell_type": "code",
   "execution_count": 16,
   "id": "c44ac2c0-cb3e-4d27-bb77-eb401e03741b",
   "metadata": {},
   "outputs": [
    {
     "name": "stdout",
     "output_type": "stream",
     "text": [
      "8\n",
      "\n",
      "C     -0.014374    0.781778   -0.000003\n",
      "C     -1.093227   -0.063202    0.000001\n",
      "O     -0.663568   -1.350275   -0.000003\n",
      "N      0.723247   -1.369134   -0.000002\n",
      "C      1.091846   -0.085769   -0.000001\n",
      "H     -0.025098    1.860610   -0.000003\n",
      "H     -2.164534    0.071505    0.000005\n",
      "H      2.145709    0.154488    0.000005\n",
      "\n"
     ]
    }
   ],
   "source": [
    "print(f'{mol_xyzOp0}')"
   ]
  },
  {
   "cell_type": "code",
   "execution_count": 17,
   "id": "8288139b-9a98-42ea-a794-13f244d56f33",
   "metadata": {},
   "outputs": [
    {
     "name": "stdout",
     "output_type": "stream",
     "text": [
      "C     -0.014374    0.781778   -0.000003\n",
      "C     -1.093227   -0.063202    0.000001\n",
      "O     -0.663568   -1.350275   -0.000003\n",
      "N      0.723247   -1.369134   -0.000002\n",
      "C      1.091846   -0.085769   -0.000001\n",
      "H     -0.025098    1.860610   -0.000003\n",
      "H     -2.164534    0.071505    0.000005\n",
      "H      2.145709    0.154488    0.000005\n"
     ]
    }
   ],
   "source": [
    "mol_xyz1 = '\\n'.join(mol_xyzOp0.strip().split('\\n')[2:])\n",
    "\n",
    "print(mol_xyz1)"
   ]
  },
  {
   "cell_type": "markdown",
   "id": "b1fe623b-0fed-433c-b5ba-4106a1e21a81",
   "metadata": {},
   "source": [
    "## Calcul du RMSD (Root Mean Square Deviation) \n",
    "C'est une mesure statistique qui quantifie la différence moyenne entre deux conformations d'une même molécule ou entre une structure expérimentale et une structure prédite."
   ]
  },
  {
   "cell_type": "code",
   "execution_count": 18,
   "id": "78af45d7-efd5-4e70-b01c-bfab9ebe012f",
   "metadata": {},
   "outputs": [
    {
     "data": {
      "text/plain": [
       "0.0"
      ]
     },
     "execution_count": 18,
     "metadata": {},
     "output_type": "execute_result"
    }
   ],
   "source": [
    "# Calculate the RMSD to evaluate the optimally (minimum RMSD) alignment of mol_rdkit0  with mol_rdkit1 \n",
    "AllChem.AlignMol(mol_rdkitNop3D, mol_rdkitOp3D) # obtenir une correspondance "
   ]
  },
  {
   "cell_type": "code",
   "execution_count": 19,
   "id": "432a14b4-2f06-46f4-ab1b-cc294fd68fd0",
   "metadata": {},
   "outputs": [
    {
     "data": {
      "text/plain": [
       "0.059407921868628956"
      ]
     },
     "execution_count": 19,
     "metadata": {},
     "output_type": "execute_result"
    }
   ],
   "source": [
    "AllChem.AlignMol(AllChem.MolFromXYZBlock(mol_xyzNop0),AllChem.MolFromXYZBlock(mol_xyzOp0))"
   ]
  },
  {
   "cell_type": "markdown",
   "id": "eda3c80d-7805-4fa2-bbfd-cb39b04ba29b",
   "metadata": {},
   "source": [
    "* Le **RMSD inférieur à 0.1 Å** alors une très faible différence géométrique entre les conformères. Cela signifie que les conformères sont très similaires d'un point de vue structural.\n",
    "* On note une grosse dispersion entre les deux structures moléculaire. "
   ]
  },
  {
   "cell_type": "markdown",
   "id": "f914d14b-609d-4d2c-b28b-03ad78dd7e59",
   "metadata": {},
   "source": [
    "## Optimisation de la structure 3D avec xTB et CREST\n",
    "\n",
    "**xtb** implémente des méthodes de calcul quantique semi-empiriques avancées, telles que GFN1-xTB, GFN2-xTB et IPEA-xTB qui permettent d'effectuer des calculs d'énergie, d'optimisation de géométrie, de fréquences vibrationnelles et d'autres propriétés moléculaires de manière rapide et efficace.\n",
    "\n",
    "![Bon_xtb.jpeg](attachment:1b6be95c-a375-433a-8b5f-f70c87251aee.jpeg)\n",
    "\n",
    "**CREST** optimise les conformères générés en minimisant leur énergie et en éliminant les structures redondantes ou non-physiques. Cela conduit à un ensemble réduit de conformères stables et représentatifs.\n"
   ]
  },
  {
   "cell_type": "code",
   "execution_count": 20,
   "id": "59c45e3d-08df-4ea5-a098-b258beb443b9",
   "metadata": {},
   "outputs": [],
   "source": [
    "#  Common packages\n",
    "import os\n",
    "import sys\n",
    "from sys import exit\n",
    "from pathlib import Path\n",
    "import subprocess as sp"
   ]
  },
  {
   "cell_type": "code",
   "execution_count": 21,
   "id": "883d76a6-b4b6-4933-940c-6d0a8c5c6600",
   "metadata": {},
   "outputs": [],
   "source": [
    "#Fonction pour nettoyer les fichiers de calcul\n",
    "def clean_xtb_files():\n",
    "        #---------------------------------------------------------------------\n",
    "        # Clean up output files from xtb, xtb-stda and CREST processes\n",
    "        #FIXME To call after each xtb function\n",
    "        #---------------------------------------------------------------------\n",
    "        sp.run(['rm', 'bondlengths', 'charges', 'coord', 'coord.original', 'cregen_0.tmp','spec.dat','rots.dat',\n",
    "                'cregen_1.tmp', 'cre_members', 'crest_best.xyz', 'crest_conformers.xyz', 'vibspectrum', 'hessian', 'g98.out',\n",
    "                'crest.energies', 'crest_rotamers.xyz', 'gfnff_charges', 'gfnff_topo', 'wfn.xtb', 'xtbhess.xyz',\n",
    "                '.history.xyz', 'struc.xyz', 'wbo', 'xtbopt.xyz', 'xtbopt.log', '.xtboptok', 'crest_property.xyz',\n",
    "                'xtbrestart', 'xtbtopo.mol', 'xtblast.xyz', 'gfnff_adjacency', '.UHF', 'tda.dat',\n",
    "                'ensemble_energies.log', 'charges3', 'charges', 'molden.input', 'crest_0.mdrestart',\n",
    "                'crest_dynamics.trj', 'crestopt.log', 'crest.restart', 'crest_input_copy.xyz'], stdout=sp.DEVNULL, stderr=sp.DEVNULL)\n",
    "        # For folder\n",
    "        sp.run(['rm', '-r', 'calculation.level.1'], stdout=sp.DEVNULL, stderr=sp.DEVNULL)"
   ]
  },
  {
   "cell_type": "markdown",
   "id": "94f7295e-6548-44c7-9a4e-ee7ceb53a8be",
   "metadata": {},
   "source": [
    "Il est possible d'exécuter xTB en ligne, sur [atomistica](https://atomistica-online-xtb.anvil.app/)."
   ]
  },
  {
   "cell_type": "markdown",
   "id": "e4a4168c-8404-4dc3-bef1-e953e9de68b3",
   "metadata": {},
   "source": [
    "### Vérification des versions de xTB, CREST et sTDA installées"
   ]
  },
  {
   "cell_type": "code",
   "execution_count": 22,
   "id": "6c1c8435-7e21-497c-9977-bbb04654966c",
   "metadata": {},
   "outputs": [],
   "source": [
    "try:\n",
    "  import xtb, crest\n",
    "except:\n",
    "  %pip install xtb crest -U\n",
    "  import xtb, crest"
   ]
  },
  {
   "cell_type": "code",
   "execution_count": 23,
   "id": "1a1764c7-f81c-4394-b55a-9ed6538275a3",
   "metadata": {},
   "outputs": [
    {
     "name": "stdout",
     "output_type": "stream",
     "text": [
      "      -----------------------------------------------------------      \n",
      "     |                   =====================                   |     \n",
      "     |                           x T B                           |     \n",
      "     |                   =====================                   |     \n",
      "     |                         S. Grimme                         |     \n",
      "     |          Mulliken Center for Theoretical Chemistry        |     \n",
      "     |                    University of Bonn                     |     \n",
      "      -----------------------------------------------------------      \n",
      "\n",
      "   * xtb version 6.6.1 (8d0f1dd) compiled by 'conda@1efc2f54142f' on 2023-08-01\n",
      "\n",
      "normal termination of xtb\n"
     ]
    }
   ],
   "source": [
    "!xtb --version"
   ]
  },
  {
   "cell_type": "code",
   "execution_count": 24,
   "id": "f9ee12c6-11eb-4092-96b1-912d387a3e1b",
   "metadata": {},
   "outputs": [
    {
     "name": "stdout",
     "output_type": "stream",
     "text": [
      " \n",
      "       ╔════════════════════════════════════════════╗\n",
      "       ║            ___ ___ ___ ___ _____           ║\n",
      "       ║           / __| _ \\ __/ __|_   _|          ║\n",
      "       ║          | (__|   / _|\\__ \\ | |            ║\n",
      "       ║           \\___|_|_\\___|___/ |_|            ║\n",
      "       ║                                            ║\n",
      "       ║  Conformer-Rotamer Ensemble Sampling Tool  ║\n",
      "       ║          based on the xTB methods          ║\n",
      "       ║                                            ║\n",
      "       ╚════════════════════════════════════════════╝\n",
      "       Version 3.0.1, Mon May  6 18:43:33 UTC 2024\n",
      "       commit (1782d7d) compiled by 'runner@fv-az772-53'\n",
      " \n",
      " crest 3.0.1\n"
     ]
    }
   ],
   "source": [
    "!crest --version"
   ]
  },
  {
   "cell_type": "markdown",
   "id": "0695ba09-114a-49f8-b58a-444bde855707",
   "metadata": {},
   "source": [
    "## Pré-optimisation avec xTB sur la molécule pré-optimisée avec RDKit"
   ]
  },
  {
   "cell_type": "markdown",
   "id": "d7aba2ef-d12e-4bb3-bddb-52560a2f2c8c",
   "metadata": {},
   "source": [
    "## Définition des chemins pour les fichiers xtb de pré-optimisation, les fichiers xtb d'optimisation et le fichier journal CREST"
   ]
  },
  {
   "cell_type": "code",
   "execution_count": 25,
   "id": "f49941c1-8555-40d7-9934-3d4ce4ac962b",
   "metadata": {},
   "outputs": [],
   "source": [
    "# Setting various paths for xtb and crest files\n",
    "#pré-optimisation with xtb\n",
    "path_xtb_xyzProp = working_dir / f'{smi_key}_xtb_PrOpt.xyz'\n",
    "path_xtb_logProp = working_dir / f'{smi_key}_xtb_PrOpt.log'\n",
    "\n",
    "#optimisation with xtb\n",
    "path_xtb_xyzOp = working_dir / f'{smi_key}_xtb_Opt.xyz'\n",
    "path_xtb_logOp = working_dir / f'{smi_key}_xtb_Opt.log'\n",
    "\n",
    "#log for crest\n",
    "path_crest_log = working_dir / f'{smi_key}_crest.log'\n",
    "\n",
    "path_xtb_csv = working_dir / f'{smi_key}_xtb.csv'"
   ]
  },
  {
   "cell_type": "markdown",
   "id": "4fe5eba6-2883-471f-aa7e-58ba21478ae0",
   "metadata": {},
   "source": [
    "### Pré-optimisation avec xTB sur la molécule optimisée par RDKit\n",
    "\n",
    "## Méthodes GFN-xTB et GFN-FF\n",
    "\n",
    "**GFN-xTB** (Geometry, Frequency, Noncovalent - xTight Binding) est une méthode semi-empirique performante pour la modélisation de propriétés moléculaires. Elle utilise des paramètres ajustés à partir de données expérimentales. Cela permet d'obtenir des résultats précis à un coût de calcul raisonnable, par rapport aux méthodes ab initio plus coûteuses.\n",
    "\n",
    "![XTB.gif](attachment:250557e7-4446-43cc-9fbb-707daed7835a.gif)\n",
    "\n",
    "  * Différentes variantes :\n",
    "        GFN0-xTB, GFN1-xTB et GFN2-xTB sont les trois principales variantes, avec une complexité et une précision croissantes.\n",
    "\n",
    "   * Propriétés ciblées : GFN-xTB vise à fournir des résultats fiables pour des propriétés telles que les géométries moléculaires, les fréquences de vibration, les énergies d'interaction, etc. La méthode est particulièrement adaptée pour la modélisation de systèmes moléculaires de taille moyenne à grande.\n",
    "    \n",
    "          \n",
    "**GFN-FF**  (Geometry, Frequency, Noncovalent Force Field) est une approche hybride qui combine les avantages de GFN-xTB et des champs de force classiques, permettant la modélisation de systèmes moléculaires de grande taille.\n",
    "\n",
    "\n",
    "La méthode **GFN2-xTB** se distingue par sa capacité à fournir des résultats de très haute qualité pour un coût de calcul relativement faible, la rendant particulièrement adaptée pour la modélisation de systèmes moléculaires complexes à grande échelle."
   ]
  },
  {
   "cell_type": "code",
   "execution_count": 26,
   "id": "9ff12fe3-d99c-46e8-9b44-0987acf8f1f9",
   "metadata": {},
   "outputs": [
    {
     "name": "stdout",
     "output_type": "stream",
     "text": [
      "normal termination of xtb\n",
      "Note: The following floating-point exceptions are signalling: IEEE_DENORMAL\n"
     ]
    }
   ],
   "source": [
    "!xtb {path_rdkitOp_xyz} --gfn 2 --opt vtight --parallel 4 > {path_xtb_logProp}"
   ]
  },
  {
   "cell_type": "markdown",
   "id": "bbc0957d-1667-4e89-bd1d-b7e4db5c2d5e",
   "metadata": {},
   "source": [
    "* La commande ci-dessus lance une optimisation de géométrie avec la méthode GFN2-xTB, en utilisant des critères de convergence très stricts et en tirant parti du calcul parallélisé sur 2 cœurs. Les résultats de ce calcul seront enregistrés dans le fichier journal {path_xtb_logProp}.\n",
    "\n",
    "* L'option **--opt vtight** permet de définir des critères de convergence très stricts pour l'optimisation de la géométrie moléculaire. Ces critères de convergence très stricts permettent d'obtenir une optimisation de géométrie très précise, au détriment d'un temps de calcul généralement plus long que pour une optimisation **standard (--opt tight)**."
   ]
  },
  {
   "cell_type": "markdown",
   "id": "101a6927-6220-4d70-b490-100df3c53161",
   "metadata": {},
   "source": [
    "#### Sauvegarde de la structure pré-optimisée"
   ]
  },
  {
   "cell_type": "code",
   "execution_count": 27,
   "id": "658729f3-2e81-493f-b9ca-4696ef38c37b",
   "metadata": {},
   "outputs": [],
   "source": [
    "!cp xtbopt.xyz {path_xtb_xyzProp}"
   ]
  },
  {
   "cell_type": "markdown",
   "id": "5953ec71-5a99-4090-8467-41875fba7b4b",
   "metadata": {},
   "source": [
    "## Visualisation de la structure pre-optimisée par xtb"
   ]
  },
  {
   "cell_type": "code",
   "execution_count": 28,
   "id": "521d3752-0a36-41ab-8edd-165461504f6b",
   "metadata": {},
   "outputs": [
    {
     "data": {
      "application/3dmoljs_load.v0": "<div id=\"3dmolviewer_17335928954430234\"  style=\"position: relative; width: 400px; height: 400px;\">\n        <p id=\"3dmolwarning_17335928954430234\" style=\"background-color:#ffcccc;color:black\">You appear to be running in JupyterLab (or JavaScript failed to load for some other reason).  You need to install the 3dmol extension: <br>\n        <tt>jupyter labextension install jupyterlab_3dmol</tt></p>\n        </div>\n<script>\n\nvar loadScriptAsync = function(uri){\n  return new Promise((resolve, reject) => {\n    //this is to ignore the existence of requirejs amd\n    var savedexports, savedmodule;\n    if (typeof exports !== 'undefined') savedexports = exports;\n    else exports = {}\n    if (typeof module !== 'undefined') savedmodule = module;\n    else module = {}\n\n    var tag = document.createElement('script');\n    tag.src = uri;\n    tag.async = true;\n    tag.onload = () => {\n        exports = savedexports;\n        module = savedmodule;\n        resolve();\n    };\n  var firstScriptTag = document.getElementsByTagName('script')[0];\n  firstScriptTag.parentNode.insertBefore(tag, firstScriptTag);\n});\n};\n\nif(typeof $3Dmolpromise === 'undefined') {\n$3Dmolpromise = null;\n  $3Dmolpromise = loadScriptAsync('https://cdnjs.cloudflare.com/ajax/libs/3Dmol/2.0.4/3Dmol-min.js');\n}\n\nvar viewer_17335928954430234 = null;\nvar warn = document.getElementById(\"3dmolwarning_17335928954430234\");\nif(warn) {\n    warn.parentNode.removeChild(warn);\n}\n$3Dmolpromise.then(function() {\nviewer_17335928954430234 = $3Dmol.createViewer(document.getElementById(\"3dmolviewer_17335928954430234\"),{backgroundColor:\"white\"});\nviewer_17335928954430234.zoomTo();\n\tviewer_17335928954430234.addModel(\"8\\n\\nC           -0.02284122382480        0.77769208648800       -0.00001139280272\\nC           -1.08441462610576       -0.07686212537046        0.00001456594021\\nO           -0.64674794696045       -1.33705297984469       -0.00002395882397\\nN            0.70231569623897       -1.33866896210140       -0.00001275168490\\nC            1.08990848487168       -0.09501295999128        0.00001599075037\\nH           -0.02594634001019        1.84659264794284       -0.00002308018490\\nH           -2.14512524141417        0.07521763934294        0.00002216477880\\nH            2.13285219720470        0.14809565353407        0.00001746202711\",\"xyz\");\n\tviewer_17335928954430234.setStyle({\"stick\": {}, \"sphere\": {\"scale\": 0.3}});\n\tviewer_17335928954430234.addLabel(\"Oxazole Pre. Opt Molecule xTB\",{\"position\": {\"x\": -2, \"y\": -3, \"z\": 0}});\n\tviewer_17335928954430234.zoomTo();\nviewer_17335928954430234.render();\n});\n</script>",
      "text/html": [
       "<div id=\"3dmolviewer_17335928954430234\"  style=\"position: relative; width: 400px; height: 400px;\">\n",
       "        <p id=\"3dmolwarning_17335928954430234\" style=\"background-color:#ffcccc;color:black\">You appear to be running in JupyterLab (or JavaScript failed to load for some other reason).  You need to install the 3dmol extension: <br>\n",
       "        <tt>jupyter labextension install jupyterlab_3dmol</tt></p>\n",
       "        </div>\n",
       "<script>\n",
       "\n",
       "var loadScriptAsync = function(uri){\n",
       "  return new Promise((resolve, reject) => {\n",
       "    //this is to ignore the existence of requirejs amd\n",
       "    var savedexports, savedmodule;\n",
       "    if (typeof exports !== 'undefined') savedexports = exports;\n",
       "    else exports = {}\n",
       "    if (typeof module !== 'undefined') savedmodule = module;\n",
       "    else module = {}\n",
       "\n",
       "    var tag = document.createElement('script');\n",
       "    tag.src = uri;\n",
       "    tag.async = true;\n",
       "    tag.onload = () => {\n",
       "        exports = savedexports;\n",
       "        module = savedmodule;\n",
       "        resolve();\n",
       "    };\n",
       "  var firstScriptTag = document.getElementsByTagName('script')[0];\n",
       "  firstScriptTag.parentNode.insertBefore(tag, firstScriptTag);\n",
       "});\n",
       "};\n",
       "\n",
       "if(typeof $3Dmolpromise === 'undefined') {\n",
       "$3Dmolpromise = null;\n",
       "  $3Dmolpromise = loadScriptAsync('https://cdnjs.cloudflare.com/ajax/libs/3Dmol/2.0.4/3Dmol-min.js');\n",
       "}\n",
       "\n",
       "var viewer_17335928954430234 = null;\n",
       "var warn = document.getElementById(\"3dmolwarning_17335928954430234\");\n",
       "if(warn) {\n",
       "    warn.parentNode.removeChild(warn);\n",
       "}\n",
       "$3Dmolpromise.then(function() {\n",
       "viewer_17335928954430234 = $3Dmol.createViewer(document.getElementById(\"3dmolviewer_17335928954430234\"),{backgroundColor:\"white\"});\n",
       "viewer_17335928954430234.zoomTo();\n",
       "\tviewer_17335928954430234.addModel(\"8\\n\\nC           -0.02284122382480        0.77769208648800       -0.00001139280272\\nC           -1.08441462610576       -0.07686212537046        0.00001456594021\\nO           -0.64674794696045       -1.33705297984469       -0.00002395882397\\nN            0.70231569623897       -1.33866896210140       -0.00001275168490\\nC            1.08990848487168       -0.09501295999128        0.00001599075037\\nH           -0.02594634001019        1.84659264794284       -0.00002308018490\\nH           -2.14512524141417        0.07521763934294        0.00002216477880\\nH            2.13285219720470        0.14809565353407        0.00001746202711\",\"xyz\");\n",
       "\tviewer_17335928954430234.setStyle({\"stick\": {}, \"sphere\": {\"scale\": 0.3}});\n",
       "\tviewer_17335928954430234.addLabel(\"Oxazole Pre. Opt Molecule xTB\",{\"position\": {\"x\": -2, \"y\": -3, \"z\": 0}});\n",
       "\tviewer_17335928954430234.zoomTo();\n",
       "viewer_17335928954430234.render();\n",
       "});\n",
       "</script>"
      ]
     },
     "metadata": {},
     "output_type": "display_data"
    }
   ],
   "source": [
    "#Visualisation\n",
    "molecule_xtb_preOp = path_xtb_xyzProp.read_text()\n",
    "lines = molecule_xtb_preOp.strip().split('\\n')\n",
    "molecule_xtb_preOp = '\\n'.join(lines[:1] + [''] + lines[2:])\n",
    "\n",
    "view3D(molecule_xtb_preOp, f'{smi_key} Pre. Opt Molecule xTB', fmt='xyz')"
   ]
  },
  {
   "cell_type": "markdown",
   "id": "99ae512f-4175-4150-ac9d-6ea85c365524",
   "metadata": {},
   "source": [
    "### Recherche du meilleur conformère avec CREST\n",
    "\n",
    "Le code ci-dessous lance une analyse conformationnelle avec CREST en utilisant la méthode GFN2-xTB, avec des paramètres d'échantillonnage rapides et sans vérification de la topologie de référence. Les résultats seront enregistrés dans le fichier de sortie {path_crest_log}.\n",
    "\n",
    "\n",
    "{path_xtb_xyzProp} : C'est le chemin du fichier d'entrée au format XYZ contenant la structure moléculaire à analyser. \n",
    "*  --mquick : Cette option active le mode \"rapide\" de CREST, qui utilise des paramètres d'échantillonnage plus agressifs pour accélérer les calculs;\n",
    "\n",
    "* --noreftopo : Cette option désactive la vérification de la topologie de référence, ce qui peut être utile lorsque la structure d'entrée n'a pas de topologie de référence connue.\n",
    "\n",
    "* -T 2 : Cette option définit le nombre de threads (cœurs de processeur) à utiliser pour les calculs en parallèle.\n"
   ]
  },
  {
   "cell_type": "code",
   "execution_count": 29,
   "id": "d494ad83-1654-43c8-8e72-88f656a3a756",
   "metadata": {},
   "outputs": [
    {
     "name": "stdout",
     "output_type": "stream",
     "text": [
      " \n",
      "       ╔════════════════════════════════════════════╗\n",
      "       ║            ___ ___ ___ ___ _____           ║\n",
      "       ║           / __| _ \\ __/ __|_   _|          ║\n",
      "       ║          | (__|   / _|\\__ \\ | |            ║\n",
      "       ║           \\___|_|_\\___|___/ |_|            ║\n",
      "       ║                                            ║\n",
      "       ║  Conformer-Rotamer Ensemble Sampling Tool  ║\n",
      "       ║          based on the xTB methods          ║\n",
      "       ║                                            ║\n",
      "       ╚════════════════════════════════════════════╝\n",
      "       Version 3.0.1, Mon May  6 18:43:33 UTC 2024\n",
      "       commit (1782d7d) compiled by 'runner@fv-az772-53'\n",
      " \n",
      "   Cite work conducted with this code as\n",
      "\n",
      "   • P.Pracht, F.Bohle, S.Grimme, PCCP, 2020, 22, 7169-7192.\n",
      "   • S.Grimme, JCTC, 2019, 15, 2847-2862.\n",
      "   • P.Pracht, S.Grimme, C.Bannwarth, F.Bohle, S.Ehlert,\n",
      "     G.Feldmann, J.Gorges, M.Müller, T.Neudecker, C.Plett,\n",
      "     S.Spicher, P.Steinbach, P.Wesołowski, F.Zeller,\n",
      "     J. Chem. Phys., 2024, 160, 114110.\n",
      "\n",
      "   for works involving QCG cite\n",
      "\n",
      "   • S.Spicher, C.Plett, P.Pracht, A.Hansen, S.Grimme,\n",
      "     JCTC, 2022, 18 (5), 3174-3189.\n",
      "   • C.Plett, S. Grimme,\n",
      "     Angew. Chem. Int. Ed. 2023, 62, e202214477.\n",
      "\n",
      "   for works involving MECP screening cite\n",
      "\n",
      "   • P.Pracht, C.Bannwarth, JCTC, 2022, 18 (10), 6370-6385.\n",
      " \n",
      "   Original code\n",
      "     P.Pracht, S.Grimme, Universität Bonn, MCTC\n",
      "   with help from (alphabetical order):\n",
      "     C.Bannwarth, F.Bohle, S.Ehlert, G.Feldmann, J.Gorges,\n",
      "     S.Grimme, C.Plett, P.Pracht, S.Spicher, P.Steinbach,\n",
      "     P.Wesolowski, F.Zeller\n",
      " \n",
      "   Online documentation is available at\n",
      "   https://crest-lab.github.io/crest-docs/\n",
      " \n",
      "   This program is distributed in the hope that it will be useful,\n",
      "   but WITHOUT ANY WARRANTY; without even the implied warranty of\n",
      "   MERCHANTABILITY or FITNESS FOR A PARTICULAR PURPOSE. See the\n",
      "   GNU Lesser General Public License (LGPL) for more details.\n",
      "\n",
      " Command line input:\n",
      " $ crest dataGeo_opt/Oxazole/Oxazole_xtb_PrOpt.xyz --gfn 2 --mquick --noreftopo -T 4 dataGeo_opt/Oxazole/Oxazole_crest.log\n",
      "\n",
      "  --gfn2               : Use of GFN2-xTB requested.\n",
      "  --mquick  : very crude quick-mode (no NORMMD, no GC, crude opt.)\n",
      "  -T 4 (CPUs/Threads selected)\n",
      "\n",
      "> Setting up backup calculator ... done.\n",
      " ----------------\n",
      " Calculation info\n",
      " ----------------\n",
      "> User-defined calculation level:\n",
      " : xTB calculation via tblite lib\n",
      " : GFN2-xTB level\n",
      " :   Molecular charge    : 0\n",
      " :   Fermi temperature   : 300.00000\n",
      " :   Accuracy            : 1.00000\n",
      " :   max SCC cycles      : 500\n",
      " :   Read dipoles?       : yes\n",
      " :   Weight              : 1.00000\n",
      " \n",
      " \n",
      " -----------------------------\n",
      " Initial Geometry Optimization\n",
      " -----------------------------\n",
      " Geometry successfully optimized.\n",
      " \n",
      "          ┍━━━━━━━━━━━━━━━━━━━━━━━━━━━━━━━━━━━━━━━━━━━━━━━━━┑\n",
      "          │              CREST iMTD-GC SAMPLING             │\n",
      "          ┕━━━━━━━━━━━━━━━━━━━━━━━━━━━━━━━━━━━━━━━━━━━━━━━━━┙\n",
      " \n",
      " Input structure:\n",
      "  8\n",
      " \n",
      " C         -0.0856764393        1.2204001531        0.0000169341\n",
      " C         -1.0937400855        0.3033512080        0.0000076151\n",
      " O         -0.5808509320       -0.9281099660        0.0000053023\n",
      " N          0.7658658601       -0.8483125052        0.0000526249\n",
      " C          1.0777009915        0.4164402132       -0.0000046980\n",
      " H         -0.1532131655        2.2871608334        0.0000043947\n",
      " H         -2.1616771216        0.3912390675       -0.0000261857\n",
      " H          2.1040473684        0.7220845058       -0.0000511526\n",
      " \n",
      " ------------------------------------------------\n",
      " Generating MTD length from a flexibility measure\n",
      " ------------------------------------------------\n",
      " Calculating GFN0-xTB WBOs   ... done.\n",
      " done.lating NCI flexibility ...\n",
      "     covalent flexibility measure :   0.046\n",
      " non-covalent flexibility measure :   0.883\n",
      " flexibility measure :   0.118\n",
      " t(MTD) / ps    :     2.5\n",
      " Σ(t(MTD)) / ps :    15.0 (6 MTDs)\n",
      " \n",
      " -----------------------------------\n",
      " Starting trial MTD to test settings\n",
      " -----------------------------------\n",
      " Trial MTD 1 runtime (1.0 ps) ...        0 min,  2.002 sec\n",
      " Estimated runtime for one MTD (2.5 ps) on a single thread: 5 sec\n",
      " Estimated runtime for a batch of 6 MTDs on 4 threads: 10 sec\n",
      " \n",
      "******************************************************************************************\n",
      "**                         N E W   I T E R A T I O N  C Y C L E                         **\n",
      "******************************************************************************************\n",
      " \n",
      " ------------------------------\n",
      " Meta-Dynamics Iteration 1\n",
      " ------------------------------\n",
      " list of applied metadynamics Vbias parameters:\n",
      "$metadyn    0.01600   1.000\n",
      "$metadyn    0.00800   1.000\n",
      "$metadyn    0.01600   0.500\n",
      "$metadyn    0.00800   0.500\n",
      "$metadyn    0.01600   0.250\n",
      "$metadyn    0.00800   0.250\n",
      " \n",
      "  ::::::::::::: starting MTD    1 :::::::::::::\n",
      "  |   MD simulation time   :     2.5 ps       |\n",
      "  |   target T             :   300.0 K        |\n",
      "  |   timestep dt          :     5.0 fs       |\n",
      "  |   dump interval(trj)   :   100.0 fs       |\n",
      "  |   SHAKE algorithm      : true (all bonds) |\n",
      "  |   dump interval(Vbias) :    1.00 ps       |\n",
      "  |   Vbias prefactor (k)  :  0.0160 Eh       |\n",
      "  |   Vbias exponent (α)   :  1.0000 bohr⁻²   |\n",
      "  ::::::::::::: starting MTD    3 :::::::::::::\n",
      "  |   MD simulation time   :     2.5 ps       |\n",
      "  |   target T             :   300.0 K        |\n",
      "  |   timestep dt          :     5.0 fs       |\n",
      "  |   dump interval(trj)   :   100.0 fs       |\n",
      "  |   SHAKE algorithm      : true (all bonds) |\n",
      "  |   dump interval(Vbias) :    1.00 ps       |\n",
      "  |   Vbias prefactor (k)  :  0.0160 Eh       |\n",
      "  |   Vbias exponent (α)   :  0.5000 bohr⁻²   |\n",
      "  ::::::::::::: starting MTD    6 :::::::::::::\n",
      "  |   MD simulation time   :     2.5 ps       |\n",
      "  |   target T             :   300.0 K        |\n",
      "  |   timestep dt          :     5.0 fs       |\n",
      "  |   dump interval(trj)   :   100.0 fs       |\n",
      "  |   SHAKE algorithm      : true (all bonds) |\n",
      "  |   dump interval(Vbias) :    1.00 ps       |\n",
      "  |   Vbias prefactor (k)  :  0.0080 Eh       |\n",
      "  |   Vbias exponent (α)   :  0.2500 bohr⁻²   |\n",
      "  ::::::::::::: starting MTD    5 :::::::::::::\n",
      "  |   MD simulation time   :     2.5 ps       |\n",
      "  |   target T             :   300.0 K        |\n",
      "  |   timestep dt          :     5.0 fs       |\n",
      "  |   dump interval(trj)   :   100.0 fs       |\n",
      "  |   SHAKE algorithm      : true (all bonds) |\n",
      "  |   dump interval(Vbias) :    1.00 ps       |\n",
      "  |   Vbias prefactor (k)  :  0.0160 Eh       |\n",
      "  |   Vbias exponent (α)   :  0.2500 bohr⁻²   |\n",
      "*MTD   3 completed successfully ...        0 min,  8.625 sec\n",
      "  ::::::::::::: starting MTD    4 :::::::::::::\n",
      "  |   MD simulation time   :     2.5 ps       |\n",
      "  |   target T             :   300.0 K        |\n",
      "  |   timestep dt          :     5.0 fs       |\n",
      "  |   dump interval(trj)   :   100.0 fs       |\n",
      "  |   SHAKE algorithm      : true (all bonds) |\n",
      "  |   dump interval(Vbias) :    1.00 ps       |\n",
      "  |   Vbias prefactor (k)  :  0.0080 Eh       |\n",
      "  |   Vbias exponent (α)   :  0.5000 bohr⁻²   |\n",
      "*MTD   6 completed successfully ...        0 min,  9.174 sec\n",
      "*MTD   1 completed successfully ...        0 min,  9.378 sec\n",
      "  ::::::::::::: starting MTD    2 :::::::::::::\n",
      "  |   MD simulation time   :     2.5 ps       |\n",
      "  |   target T             :   300.0 K        |\n",
      "  |   timestep dt          :     5.0 fs       |\n",
      "  |   dump interval(trj)   :   100.0 fs       |\n",
      "  |   SHAKE algorithm      : true (all bonds) |\n",
      "  |   dump interval(Vbias) :    1.00 ps       |\n",
      "  |   Vbias prefactor (k)  :  0.0080 Eh       |\n",
      "  |   Vbias exponent (α)   :  1.0000 bohr⁻²   |\n",
      "*MTD   5 completed successfully ...        0 min,  9.680 sec\n",
      "*MTD   4 completed successfully ...        0 min,  5.945 sec\n",
      "*MTD   2 completed successfully ...        0 min,  5.769 sec\n",
      " \n",
      " ======================================\n",
      " |  Multilevel Ensemble Optimization  |\n",
      " ======================================\n",
      " Optimizing all 144 structures from file \"crest_dynamics.trj\" ...\n",
      " ----------------------\n",
      " crude pre-optimization\n",
      " ----------------------\n",
      " Optimization engine: ANCOPT\n",
      " Hessian update type: BFGS\n",
      " E/G convergence criteria:  0.500E-03 Eh, 0.100E-01 Eh/a0\n",
      " |>0.7% |>10.4% |>20.1% |>30.6% |>40.3% |>50.0% |>60.4% |>70.1% |>80.6% |>90.3% |>100.0%\n",
      " done.\n",
      "> 144 of 144 structures successfully optimized (100.0% success)\n",
      "> Total runtime for 144 optimizations:\n",
      " * wall-time:     0 d,  0 h,  0 min,  3.134 sec\n",
      " *  cpu-time:     0 d,  0 h,  0 min, 11.318 sec\n",
      " * ratio c/w:     3.612 speedup\n",
      "> Corresponding to approximately 0.022 sec per processed structure\n",
      " \n",
      "CREGEN> running RMSDs ... done.\n",
      "CREGEN> E lowest :   -14.88282\n",
      " 1 structures remain within     5.00 kcal/mol window\n",
      " This is less than 5% of the initial 144 structures.\n",
      " Increasing energy window to include more...\n",
      " done.> running RMSDs ...\n",
      "CREGEN> E lowest :   -14.88282\n",
      " 1 structures remain within     7.50 kcal/mol window\n",
      " ----------------------------------\n",
      " optimization with loose thresholds\n",
      " ----------------------------------\n",
      " Optimization engine: ANCOPT\n",
      " Hessian update type: BFGS\n",
      " E/G convergence criteria:  0.500E-04 Eh, 0.400E-02 Eh/a0\n",
      " |>100.0%\n",
      " done.\n",
      "> 1 of 1 structures successfully optimized (100.0% success)\n",
      "> Total runtime for 1 optimizations:\n",
      " * wall-time:     0 d,  0 h,  0 min,  0.030 sec\n",
      " *  cpu-time:     0 d,  0 h,  0 min,  0.110 sec\n",
      " * ratio c/w:     3.646 speedup\n",
      "> Corresponding to approximately 0.030 sec per processed structure\n",
      " \n",
      "CREGEN> running RMSDs ... done.\n",
      "CREGEN> E lowest :   -14.88283\n",
      " 1 structures remain within     4.00 kcal/mol window\n",
      " \n",
      "========================================\n",
      "           MTD Simulations done         \n",
      "========================================\n",
      " Collecting ensmbles.\n",
      "CREGEN> running RMSDs ... done.\n",
      "CREGEN> E lowest :   -14.88283\n",
      " 1 structures remain within     2.50 kcal/mol window\n",
      "\n",
      "\n",
      "   ================================================\n",
      "   |           Final Geometry Optimization        |\n",
      "   ================================================\n",
      " Optimizing all 1 structures from file \"crest_rotamers_1.xyz\" ...\n",
      " ------------------------------------\n",
      " optimization with regular thresholds\n",
      " ------------------------------------\n",
      " Optimization engine: ANCOPT\n",
      " Hessian update type: BFGS\n",
      " E/G convergence criteria:  0.500E-05 Eh, 0.100E-02 Eh/a0\n",
      " |>100.0%\n",
      " done.\n",
      "> 1 of 1 structures successfully optimized (100.0% success)\n",
      "> Total runtime for 1 optimizations:\n",
      " * wall-time:     0 d,  0 h,  0 min,  0.026 sec\n",
      " *  cpu-time:     0 d,  0 h,  0 min,  0.101 sec\n",
      " * ratio c/w:     3.904 speedup\n",
      "> Corresponding to approximately 0.026 sec per processed structure\n",
      " \n",
      " done.> running RMSDs ...\n",
      "CREGEN> E lowest :   -14.88283\n",
      " 1 structures remain within     2.50 kcal/mol window\n",
      "\n",
      "\n",
      " --------------------------\n",
      " Final Ensemble Information\n",
      " --------------------------\n",
      " input  file name : crest_rotamers_1.xyz\n",
      " output file name : crest_rotamers_2.xyz\n",
      " number of atoms                :   8\n",
      " number of points on xyz files  :   1\n",
      " RMSD threshold                 :   0.1250\n",
      " Bconst threshold               :   0.0100\n",
      " population threshold           :   0.0500\n",
      " conformer energy window  /kcal :   2.5000\n",
      " # fragment in coord            :     1\n",
      " # bonds in reference structure :     8\n",
      " number of reliable points      :     1\n",
      " reference state Etot :  -14.8828292100000\n",
      " number of doubles removed by rot/RMSD         :           0\n",
      " total number unique points considered further :           1\n",
      "       Erel/kcal        Etot weight/tot  conformer     set   degen     origin\n",
      "       1   0.000   -14.88283    1.00000    1.00000       1       1\n",
      "T /K                                  :   298.15\n",
      "E lowest                              :   -14.88283\n",
      "ensemble average energy (kcal)        :    0.000\n",
      "ensemble entropy (J/mol K, cal/mol K) :   -0.000   -0.000\n",
      "ensemble free energy (kcal/mol)       :    0.000\n",
      "population of lowest in %             :  100.000\n",
      " number of unique conformers for further calc            1\n",
      " list of relative energies saved as \"crest.energies\"\n",
      " \n",
      " -----------------\n",
      " Wall Time Summary\n",
      " -----------------\n",
      " CREST runtime (total)               0 d,  0 h,  0 min, 21.215 sec\n",
      " ------------------------------------------------------------------\n",
      " Trial metadynamics (MTD)   ...        0 min,  2.010 sec (  9.474%)\n",
      " Metadynamics (MTD)         ...        0 min, 15.234 sec ( 71.809%)\n",
      " Geometry optimization      ...        0 min,  3.619 sec ( 17.059%)\n",
      " I/O and setup              ...        0 min,  0.352 sec (  1.659%)\n",
      " ------------------------------------------------------------------\n",
      " * wall-time:     0 d,  0 h,  0 min, 21.215 sec\n",
      " *  cpu-time:     0 d,  0 h,  1 min,  1.990 sec\n",
      " * ratio c/w:     2.922 speedup\n",
      " ------------------------------------------------------------------\n",
      " * Total number of energy+grad calls: 3948\n",
      " \n",
      " CREST terminated normally.\n"
     ]
    }
   ],
   "source": [
    "!crest {path_xtb_xyzProp} --gfn 2 --mquick --noreftopo -T 4 {path_crest_log}"
   ]
  },
  {
   "cell_type": "markdown",
   "id": "78ade1c0-f0fa-4f7d-bc1e-b3db2c255941",
   "metadata": {},
   "source": [
    "### Optimisation avec xTB sur le meilleur conformère de la molécule"
   ]
  },
  {
   "cell_type": "code",
   "execution_count": 30,
   "id": "feec6991-21c7-47aa-b4af-925185a295e1",
   "metadata": {},
   "outputs": [
    {
     "name": "stdout",
     "output_type": "stream",
     "text": [
      "normal termination of xtb\n",
      "Note: The following floating-point exceptions are signalling: IEEE_DENORMAL\n"
     ]
    }
   ],
   "source": [
    "!xtb crest_best.xyz --gfn 2 --opt vtight --parallel 4 > {path_xtb_logOp}"
   ]
  },
  {
   "cell_type": "code",
   "execution_count": 31,
   "id": "5b317130-da44-46a9-bfc0-7fbd39b14c1f",
   "metadata": {},
   "outputs": [],
   "source": [
    "# Sauvegarde de la structure Optimisée\n",
    "!cp xtbopt.xyz {path_xtb_xyzOp}"
   ]
  },
  {
   "cell_type": "code",
   "execution_count": 32,
   "id": "e0997e88-57e7-492d-94c0-03039fa3c5d2",
   "metadata": {},
   "outputs": [
    {
     "data": {
      "application/3dmoljs_load.v0": "<div id=\"3dmolviewer_1733592919078643\"  style=\"position: relative; width: 400px; height: 400px;\">\n        <p id=\"3dmolwarning_1733592919078643\" style=\"background-color:#ffcccc;color:black\">You appear to be running in JupyterLab (or JavaScript failed to load for some other reason).  You need to install the 3dmol extension: <br>\n        <tt>jupyter labextension install jupyterlab_3dmol</tt></p>\n        </div>\n<script>\n\nvar loadScriptAsync = function(uri){\n  return new Promise((resolve, reject) => {\n    //this is to ignore the existence of requirejs amd\n    var savedexports, savedmodule;\n    if (typeof exports !== 'undefined') savedexports = exports;\n    else exports = {}\n    if (typeof module !== 'undefined') savedmodule = module;\n    else module = {}\n\n    var tag = document.createElement('script');\n    tag.src = uri;\n    tag.async = true;\n    tag.onload = () => {\n        exports = savedexports;\n        module = savedmodule;\n        resolve();\n    };\n  var firstScriptTag = document.getElementsByTagName('script')[0];\n  firstScriptTag.parentNode.insertBefore(tag, firstScriptTag);\n});\n};\n\nif(typeof $3Dmolpromise === 'undefined') {\n$3Dmolpromise = null;\n  $3Dmolpromise = loadScriptAsync('https://cdnjs.cloudflare.com/ajax/libs/3Dmol/2.0.4/3Dmol-min.js');\n}\n\nvar viewer_1733592919078643 = null;\nvar warn = document.getElementById(\"3dmolwarning_1733592919078643\");\nif(warn) {\n    warn.parentNode.removeChild(warn);\n}\n$3Dmolpromise.then(function() {\nviewer_1733592919078643 = $3Dmol.createViewer(document.getElementById(\"3dmolviewer_1733592919078643\"),{backgroundColor:\"white\"});\nviewer_1733592919078643.zoomTo();\n\tviewer_1733592919078643.addModel(\"8\\n\\nC           -0.08083683106525        1.22080953370041        0.00022045707701\\nC           -1.09250960053830        0.30771203439320        0.00019726111159\\nO           -0.58453572760622       -0.92578158801966       -0.00009846370650\\nN            0.76249757734032       -0.85135809682103       -0.00007046716299\\nC            1.07936262502764        0.41218453672826        0.00013252490118\\nH           -0.14415936496314        2.28782887808547        0.00052031007787\\nH           -2.16012103010268        0.39986908256459        0.00043041969338\\nH            2.10693671350763        0.71376448136876        0.00043459760847\",\"xyz\");\n\tviewer_1733592919078643.setStyle({\"stick\": {}, \"sphere\": {\"scale\": 0.3}});\n\tviewer_1733592919078643.addLabel(\"Oxazole Optimized Molecule xTB\",{\"position\": {\"x\": -2, \"y\": -3, \"z\": 0}});\n\tviewer_1733592919078643.zoomTo();\nviewer_1733592919078643.render();\n});\n</script>",
      "text/html": [
       "<div id=\"3dmolviewer_1733592919078643\"  style=\"position: relative; width: 400px; height: 400px;\">\n",
       "        <p id=\"3dmolwarning_1733592919078643\" style=\"background-color:#ffcccc;color:black\">You appear to be running in JupyterLab (or JavaScript failed to load for some other reason).  You need to install the 3dmol extension: <br>\n",
       "        <tt>jupyter labextension install jupyterlab_3dmol</tt></p>\n",
       "        </div>\n",
       "<script>\n",
       "\n",
       "var loadScriptAsync = function(uri){\n",
       "  return new Promise((resolve, reject) => {\n",
       "    //this is to ignore the existence of requirejs amd\n",
       "    var savedexports, savedmodule;\n",
       "    if (typeof exports !== 'undefined') savedexports = exports;\n",
       "    else exports = {}\n",
       "    if (typeof module !== 'undefined') savedmodule = module;\n",
       "    else module = {}\n",
       "\n",
       "    var tag = document.createElement('script');\n",
       "    tag.src = uri;\n",
       "    tag.async = true;\n",
       "    tag.onload = () => {\n",
       "        exports = savedexports;\n",
       "        module = savedmodule;\n",
       "        resolve();\n",
       "    };\n",
       "  var firstScriptTag = document.getElementsByTagName('script')[0];\n",
       "  firstScriptTag.parentNode.insertBefore(tag, firstScriptTag);\n",
       "});\n",
       "};\n",
       "\n",
       "if(typeof $3Dmolpromise === 'undefined') {\n",
       "$3Dmolpromise = null;\n",
       "  $3Dmolpromise = loadScriptAsync('https://cdnjs.cloudflare.com/ajax/libs/3Dmol/2.0.4/3Dmol-min.js');\n",
       "}\n",
       "\n",
       "var viewer_1733592919078643 = null;\n",
       "var warn = document.getElementById(\"3dmolwarning_1733592919078643\");\n",
       "if(warn) {\n",
       "    warn.parentNode.removeChild(warn);\n",
       "}\n",
       "$3Dmolpromise.then(function() {\n",
       "viewer_1733592919078643 = $3Dmol.createViewer(document.getElementById(\"3dmolviewer_1733592919078643\"),{backgroundColor:\"white\"});\n",
       "viewer_1733592919078643.zoomTo();\n",
       "\tviewer_1733592919078643.addModel(\"8\\n\\nC           -0.08083683106525        1.22080953370041        0.00022045707701\\nC           -1.09250960053830        0.30771203439320        0.00019726111159\\nO           -0.58453572760622       -0.92578158801966       -0.00009846370650\\nN            0.76249757734032       -0.85135809682103       -0.00007046716299\\nC            1.07936262502764        0.41218453672826        0.00013252490118\\nH           -0.14415936496314        2.28782887808547        0.00052031007787\\nH           -2.16012103010268        0.39986908256459        0.00043041969338\\nH            2.10693671350763        0.71376448136876        0.00043459760847\",\"xyz\");\n",
       "\tviewer_1733592919078643.setStyle({\"stick\": {}, \"sphere\": {\"scale\": 0.3}});\n",
       "\tviewer_1733592919078643.addLabel(\"Oxazole Optimized Molecule xTB\",{\"position\": {\"x\": -2, \"y\": -3, \"z\": 0}});\n",
       "\tviewer_1733592919078643.zoomTo();\n",
       "viewer_1733592919078643.render();\n",
       "});\n",
       "</script>"
      ]
     },
     "metadata": {},
     "output_type": "display_data"
    }
   ],
   "source": [
    "#Visualisation\n",
    "molecule_xtb_Op = path_xtb_xyzOp.read_text()\n",
    "lines = molecule_xtb_Op.strip().split('\\n')\n",
    "molecule_xtb_Op = '\\n'.join(lines[:1] + [''] + lines[2:])\n",
    "\n",
    "view3D(molecule_xtb_Op, f'{smi_key} Optimized Molecule xTB', fmt='xyz')"
   ]
  },
  {
   "cell_type": "code",
   "execution_count": 33,
   "id": "c3f59dee-5b7d-4aad-8f6e-a67b3ee3bff6",
   "metadata": {},
   "outputs": [
    {
     "data": {
      "application/3dmoljs_load.v0": "<div id=\"3dmolviewer_1733592919183543\"  style=\"position: relative; width: 400px; height: 400px;\">\n        <p id=\"3dmolwarning_1733592919183543\" style=\"background-color:#ffcccc;color:black\">You appear to be running in JupyterLab (or JavaScript failed to load for some other reason).  You need to install the 3dmol extension: <br>\n        <tt>jupyter labextension install jupyterlab_3dmol</tt></p>\n        </div>\n<script>\n\nvar loadScriptAsync = function(uri){\n  return new Promise((resolve, reject) => {\n    //this is to ignore the existence of requirejs amd\n    var savedexports, savedmodule;\n    if (typeof exports !== 'undefined') savedexports = exports;\n    else exports = {}\n    if (typeof module !== 'undefined') savedmodule = module;\n    else module = {}\n\n    var tag = document.createElement('script');\n    tag.src = uri;\n    tag.async = true;\n    tag.onload = () => {\n        exports = savedexports;\n        module = savedmodule;\n        resolve();\n    };\n  var firstScriptTag = document.getElementsByTagName('script')[0];\n  firstScriptTag.parentNode.insertBefore(tag, firstScriptTag);\n});\n};\n\nif(typeof $3Dmolpromise === 'undefined') {\n$3Dmolpromise = null;\n  $3Dmolpromise = loadScriptAsync('https://cdnjs.cloudflare.com/ajax/libs/3Dmol/2.0.4/3Dmol-min.js');\n}\n\nvar viewer_1733592919183543 = null;\nvar warn = document.getElementById(\"3dmolwarning_1733592919183543\");\nif(warn) {\n    warn.parentNode.removeChild(warn);\n}\n$3Dmolpromise.then(function() {\nviewer_1733592919183543 = $3Dmol.createViewer(document.getElementById(\"3dmolviewer_1733592919183543\"),{backgroundColor:\"white\"});\nviewer_1733592919183543.zoomTo();\n\tviewer_1733592919183543.addModel(\"8\\n\\nC           -0.08083683106525        1.22080953370041        0.00022045707701\\nC           -1.09250960053830        0.30771203439320        0.00019726111159\\nO           -0.58453572760622       -0.92578158801966       -0.00009846370650\\nN            0.76249757734032       -0.85135809682103       -0.00007046716299\\nC            1.07936262502764        0.41218453672826        0.00013252490118\\nH           -0.14415936496314        2.28782887808547        0.00052031007787\\nH           -2.16012103010268        0.39986908256459        0.00043041969338\\nH            2.10693671350763        0.71376448136876        0.00043459760847\",\"xyz\");\n\tviewer_1733592919183543.setStyle({\"stick\": {}, \"sphere\": {\"scale\": 0.3}});\n\tviewer_1733592919183543.addLabel(\"Oxazole xTB Molecule\",{\"position\": {\"x\": -2, \"y\": -3, \"z\": 0}});\n\tviewer_1733592919183543.zoomTo();\nviewer_1733592919183543.render();\n});\n</script>",
      "text/html": [
       "<div id=\"3dmolviewer_1733592919183543\"  style=\"position: relative; width: 400px; height: 400px;\">\n",
       "        <p id=\"3dmolwarning_1733592919183543\" style=\"background-color:#ffcccc;color:black\">You appear to be running in JupyterLab (or JavaScript failed to load for some other reason).  You need to install the 3dmol extension: <br>\n",
       "        <tt>jupyter labextension install jupyterlab_3dmol</tt></p>\n",
       "        </div>\n",
       "<script>\n",
       "\n",
       "var loadScriptAsync = function(uri){\n",
       "  return new Promise((resolve, reject) => {\n",
       "    //this is to ignore the existence of requirejs amd\n",
       "    var savedexports, savedmodule;\n",
       "    if (typeof exports !== 'undefined') savedexports = exports;\n",
       "    else exports = {}\n",
       "    if (typeof module !== 'undefined') savedmodule = module;\n",
       "    else module = {}\n",
       "\n",
       "    var tag = document.createElement('script');\n",
       "    tag.src = uri;\n",
       "    tag.async = true;\n",
       "    tag.onload = () => {\n",
       "        exports = savedexports;\n",
       "        module = savedmodule;\n",
       "        resolve();\n",
       "    };\n",
       "  var firstScriptTag = document.getElementsByTagName('script')[0];\n",
       "  firstScriptTag.parentNode.insertBefore(tag, firstScriptTag);\n",
       "});\n",
       "};\n",
       "\n",
       "if(typeof $3Dmolpromise === 'undefined') {\n",
       "$3Dmolpromise = null;\n",
       "  $3Dmolpromise = loadScriptAsync('https://cdnjs.cloudflare.com/ajax/libs/3Dmol/2.0.4/3Dmol-min.js');\n",
       "}\n",
       "\n",
       "var viewer_1733592919183543 = null;\n",
       "var warn = document.getElementById(\"3dmolwarning_1733592919183543\");\n",
       "if(warn) {\n",
       "    warn.parentNode.removeChild(warn);\n",
       "}\n",
       "$3Dmolpromise.then(function() {\n",
       "viewer_1733592919183543 = $3Dmol.createViewer(document.getElementById(\"3dmolviewer_1733592919183543\"),{backgroundColor:\"white\"});\n",
       "viewer_1733592919183543.zoomTo();\n",
       "\tviewer_1733592919183543.addModel(\"8\\n\\nC           -0.08083683106525        1.22080953370041        0.00022045707701\\nC           -1.09250960053830        0.30771203439320        0.00019726111159\\nO           -0.58453572760622       -0.92578158801966       -0.00009846370650\\nN            0.76249757734032       -0.85135809682103       -0.00007046716299\\nC            1.07936262502764        0.41218453672826        0.00013252490118\\nH           -0.14415936496314        2.28782887808547        0.00052031007787\\nH           -2.16012103010268        0.39986908256459        0.00043041969338\\nH            2.10693671350763        0.71376448136876        0.00043459760847\",\"xyz\");\n",
       "\tviewer_1733592919183543.setStyle({\"stick\": {}, \"sphere\": {\"scale\": 0.3}});\n",
       "\tviewer_1733592919183543.addLabel(\"Oxazole xTB Molecule\",{\"position\": {\"x\": -2, \"y\": -3, \"z\": 0}});\n",
       "\tviewer_1733592919183543.zoomTo();\n",
       "viewer_1733592919183543.render();\n",
       "});\n",
       "</script>"
      ]
     },
     "metadata": {},
     "output_type": "display_data"
    }
   ],
   "source": [
    "# Read the XYZ file\n",
    "mol_xtb_xyz = path_xtb_xyzOp.read_text()\n",
    "lines =mol_xtb_xyz.strip().split('\\n')\n",
    "mol_xtb_xyz = '\\n'.join(lines[:1] + [''] + lines[2:])\n",
    "\n",
    "view3D(mol_xtb_xyz, f'{smi_key} xTB Molecule', fmt='xyz')"
   ]
  },
  {
   "cell_type": "code",
   "execution_count": 34,
   "id": "67d67aab-389a-41da-83e9-87d20849bdb7",
   "metadata": {},
   "outputs": [],
   "source": [
    "#Nettoyage des fichiers\n",
    "clean_xtb_files()"
   ]
  },
  {
   "cell_type": "markdown",
   "id": "b6844157-8fb3-4940-a83d-0d92bdc430be",
   "metadata": {},
   "source": [
    "## Calcul du RMSD (Root Mean Square Deviation) "
   ]
  },
  {
   "cell_type": "code",
   "execution_count": 35,
   "id": "e0715544-fe89-45de-8e04-1373c15ff321",
   "metadata": {},
   "outputs": [
    {
     "data": {
      "text/plain": [
       "0.05504516533212646"
      ]
     },
     "execution_count": 35,
     "metadata": {},
     "output_type": "execute_result"
    }
   ],
   "source": [
    "AllChem.AlignMol(AllChem.MolFromXYZBlock(mol_xyzNop0),AllChem.MolFromXYZBlock(mol_xtb_xyz))"
   ]
  },
  {
   "cell_type": "markdown",
   "id": "45ba18a6-4cd9-4663-a67f-07b5f33c5d32",
   "metadata": {},
   "source": [
    "### Visualisation des trois structures non optimisée , pré-optimisée par RDkit et optimisée par xTB"
   ]
  },
  {
   "cell_type": "code",
   "execution_count": 36,
   "id": "192def07-c768-459e-8479-957ba78836d4",
   "metadata": {},
   "outputs": [
    {
     "data": {
      "application/3dmoljs_load.v0": "<div id=\"3dmolviewer_17335929195642745\"  style=\"position: relative; width: 900px; height: 250px;\">\n        <p id=\"3dmolwarning_17335929195642745\" style=\"background-color:#ffcccc;color:black\">You appear to be running in JupyterLab (or JavaScript failed to load for some other reason).  You need to install the 3dmol extension: <br>\n        <tt>jupyter labextension install jupyterlab_3dmol</tt></p>\n        </div>\n<script>\n\nvar loadScriptAsync = function(uri){\n  return new Promise((resolve, reject) => {\n    //this is to ignore the existence of requirejs amd\n    var savedexports, savedmodule;\n    if (typeof exports !== 'undefined') savedexports = exports;\n    else exports = {}\n    if (typeof module !== 'undefined') savedmodule = module;\n    else module = {}\n\n    var tag = document.createElement('script');\n    tag.src = uri;\n    tag.async = true;\n    tag.onload = () => {\n        exports = savedexports;\n        module = savedmodule;\n        resolve();\n    };\n  var firstScriptTag = document.getElementsByTagName('script')[0];\n  firstScriptTag.parentNode.insertBefore(tag, firstScriptTag);\n});\n};\n\nif(typeof $3Dmolpromise === 'undefined') {\n$3Dmolpromise = null;\n  $3Dmolpromise = loadScriptAsync('https://cdnjs.cloudflare.com/ajax/libs/3Dmol/2.0.4/3Dmol-min.js');\n}\n\nvar viewer_17335929195642745 = null;\nvar warn = document.getElementById(\"3dmolwarning_17335929195642745\");\nif(warn) {\n    warn.parentNode.removeChild(warn);\n}\n$3Dmolpromise.then(function() {\nvar viewergrid_17335929195642745 = null;\nviewergrid_17335929195642745 = $3Dmol.createViewerGrid(document.getElementById(\"3dmolviewer_17335929195642745\"),{rows: 1, cols: 3, control_all: true},{backgroundColor:\"white\"});\nviewer_17335929195642745 = viewergrid_17335929195642745[0][0];\nviewergrid_17335929195642745[0][0].zoomTo();viewergrid_17335929195642745[0][1].zoomTo();viewergrid_17335929195642745[0][2].zoomTo();\tviewergrid_17335929195642745[0][0].addModel(\"\\n     RDKit          3D\\n\\n  8  8  0  0  0  0  0  0  0  0999 V2000\\n   -0.0144    0.7818   -0.0000 C   0  0  0  0  0  0  0  0  0  0  0  0\\n   -1.0932   -0.0632    0.0000 C   0  0  0  0  0  0  0  0  0  0  0  0\\n   -0.6636   -1.3503   -0.0000 O   0  0  0  0  0  0  0  0  0  0  0  0\\n    0.7232   -1.3691   -0.0000 N   0  0  0  0  0  0  0  0  0  0  0  0\\n    1.0918   -0.0858   -0.0000 C   0  0  0  0  0  0  0  0  0  0  0  0\\n   -0.0251    1.8606   -0.0000 H   0  0  0  0  0  0  0  0  0  0  0  0\\n   -2.1645    0.0715    0.0000 H   0  0  0  0  0  0  0  0  0  0  0  0\\n    2.1457    0.1545    0.0000 H   0  0  0  0  0  0  0  0  0  0  0  0\\n  1  2  2  0\\n  2  3  1  0\\n  3  4  1  0\\n  4  5  2  0\\n  5  1  1  0\\n  1  6  1  0\\n  2  7  1  0\\n  5  8  1  0\\nM  END\\n\",\"mol\");\n\tviewergrid_17335929195642745[0][1].addModel(\"\\n     RDKit          3D\\n\\n  8  8  0  0  0  0  0  0  0  0999 V2000\\n   -0.0144    0.7818   -0.0000 C   0  0  0  0  0  0  0  0  0  0  0  0\\n   -1.0932   -0.0632    0.0000 C   0  0  0  0  0  0  0  0  0  0  0  0\\n   -0.6636   -1.3503   -0.0000 O   0  0  0  0  0  0  0  0  0  0  0  0\\n    0.7232   -1.3691   -0.0000 N   0  0  0  0  0  0  0  0  0  0  0  0\\n    1.0918   -0.0858   -0.0000 C   0  0  0  0  0  0  0  0  0  0  0  0\\n   -0.0251    1.8606   -0.0000 H   0  0  0  0  0  0  0  0  0  0  0  0\\n   -2.1645    0.0715    0.0000 H   0  0  0  0  0  0  0  0  0  0  0  0\\n    2.1457    0.1545    0.0000 H   0  0  0  0  0  0  0  0  0  0  0  0\\n  1  2  2  0\\n  2  3  1  0\\n  3  4  1  0\\n  4  5  2  0\\n  5  1  1  0\\n  1  6  1  0\\n  2  7  1  0\\n  5  8  1  0\\nM  END\\n\",\"mol\");\n\tviewergrid_17335929195642745[0][2].addModel(\"8\\n\\nC           -0.08083683106525        1.22080953370041        0.00022045707701\\nC           -1.09250960053830        0.30771203439320        0.00019726111159\\nO           -0.58453572760622       -0.92578158801966       -0.00009846370650\\nN            0.76249757734032       -0.85135809682103       -0.00007046716299\\nC            1.07936262502764        0.41218453672826        0.00013252490118\\nH           -0.14415936496314        2.28782887808547        0.00052031007787\\nH           -2.16012103010268        0.39986908256459        0.00043041969338\\nH            2.10693671350763        0.71376448136876        0.00043459760847\",\"xyz\");\n\tviewergrid_17335929195642745[0][0].setStyle({\"stick\": {}, \"sphere\": {\"scale\": 0.25}});\n\tviewergrid_17335929195642745[0][1].setStyle({\"stick\": {}, \"sphere\": {\"scale\": 0.25}});\n\tviewergrid_17335929195642745[0][2].setStyle({\"stick\": {}, \"sphere\": {\"scale\": 0.25}});\n\tviewergrid_17335929195642745[0][0].setViewStyle({\"style\": \"outline\", \"width\": 0.05});\n\tviewergrid_17335929195642745[0][1].setViewStyle({\"style\": \"outline\", \"width\": 0.05});\n\tviewergrid_17335929195642745[0][2].setViewStyle({\"style\": \"outline\", \"width\": 0.05});\n\tviewergrid_17335929195642745[0][0].addLabel(\"RDKit Molecule\",{\"position\": {\"x\": -2, \"y\": -3, \"z\": 0}});\n\tviewergrid_17335929195642745[0][1].addLabel(\"RDKit Molecule MMFF94\",{\"position\": {\"x\": -4, \"y\": -3, \"z\": 0}});\n\tviewergrid_17335929195642745[0][2].addLabel(\"xTB Molecule\",{\"position\": {\"x\": -2, \"y\": -3, \"z\": 0}});\n\tviewergrid_17335929195642745[0][0].zoomTo();\n\tviewergrid_17335929195642745[0][1].zoomTo();\n\tviewergrid_17335929195642745[0][2].zoomTo();\nviewergrid_17335929195642745[0][2].render();\nviewergrid_17335929195642745[0][1].render();\nviewergrid_17335929195642745[0][0].render();\n});\n</script>",
      "text/html": [
       "<div id=\"3dmolviewer_17335929195642745\"  style=\"position: relative; width: 900px; height: 250px;\">\n",
       "        <p id=\"3dmolwarning_17335929195642745\" style=\"background-color:#ffcccc;color:black\">You appear to be running in JupyterLab (or JavaScript failed to load for some other reason).  You need to install the 3dmol extension: <br>\n",
       "        <tt>jupyter labextension install jupyterlab_3dmol</tt></p>\n",
       "        </div>\n",
       "<script>\n",
       "\n",
       "var loadScriptAsync = function(uri){\n",
       "  return new Promise((resolve, reject) => {\n",
       "    //this is to ignore the existence of requirejs amd\n",
       "    var savedexports, savedmodule;\n",
       "    if (typeof exports !== 'undefined') savedexports = exports;\n",
       "    else exports = {}\n",
       "    if (typeof module !== 'undefined') savedmodule = module;\n",
       "    else module = {}\n",
       "\n",
       "    var tag = document.createElement('script');\n",
       "    tag.src = uri;\n",
       "    tag.async = true;\n",
       "    tag.onload = () => {\n",
       "        exports = savedexports;\n",
       "        module = savedmodule;\n",
       "        resolve();\n",
       "    };\n",
       "  var firstScriptTag = document.getElementsByTagName('script')[0];\n",
       "  firstScriptTag.parentNode.insertBefore(tag, firstScriptTag);\n",
       "});\n",
       "};\n",
       "\n",
       "if(typeof $3Dmolpromise === 'undefined') {\n",
       "$3Dmolpromise = null;\n",
       "  $3Dmolpromise = loadScriptAsync('https://cdnjs.cloudflare.com/ajax/libs/3Dmol/2.0.4/3Dmol-min.js');\n",
       "}\n",
       "\n",
       "var viewer_17335929195642745 = null;\n",
       "var warn = document.getElementById(\"3dmolwarning_17335929195642745\");\n",
       "if(warn) {\n",
       "    warn.parentNode.removeChild(warn);\n",
       "}\n",
       "$3Dmolpromise.then(function() {\n",
       "var viewergrid_17335929195642745 = null;\n",
       "viewergrid_17335929195642745 = $3Dmol.createViewerGrid(document.getElementById(\"3dmolviewer_17335929195642745\"),{rows: 1, cols: 3, control_all: true},{backgroundColor:\"white\"});\n",
       "viewer_17335929195642745 = viewergrid_17335929195642745[0][0];\n",
       "viewergrid_17335929195642745[0][0].zoomTo();viewergrid_17335929195642745[0][1].zoomTo();viewergrid_17335929195642745[0][2].zoomTo();\tviewergrid_17335929195642745[0][0].addModel(\"\\n     RDKit          3D\\n\\n  8  8  0  0  0  0  0  0  0  0999 V2000\\n   -0.0144    0.7818   -0.0000 C   0  0  0  0  0  0  0  0  0  0  0  0\\n   -1.0932   -0.0632    0.0000 C   0  0  0  0  0  0  0  0  0  0  0  0\\n   -0.6636   -1.3503   -0.0000 O   0  0  0  0  0  0  0  0  0  0  0  0\\n    0.7232   -1.3691   -0.0000 N   0  0  0  0  0  0  0  0  0  0  0  0\\n    1.0918   -0.0858   -0.0000 C   0  0  0  0  0  0  0  0  0  0  0  0\\n   -0.0251    1.8606   -0.0000 H   0  0  0  0  0  0  0  0  0  0  0  0\\n   -2.1645    0.0715    0.0000 H   0  0  0  0  0  0  0  0  0  0  0  0\\n    2.1457    0.1545    0.0000 H   0  0  0  0  0  0  0  0  0  0  0  0\\n  1  2  2  0\\n  2  3  1  0\\n  3  4  1  0\\n  4  5  2  0\\n  5  1  1  0\\n  1  6  1  0\\n  2  7  1  0\\n  5  8  1  0\\nM  END\\n\",\"mol\");\n",
       "\tviewergrid_17335929195642745[0][1].addModel(\"\\n     RDKit          3D\\n\\n  8  8  0  0  0  0  0  0  0  0999 V2000\\n   -0.0144    0.7818   -0.0000 C   0  0  0  0  0  0  0  0  0  0  0  0\\n   -1.0932   -0.0632    0.0000 C   0  0  0  0  0  0  0  0  0  0  0  0\\n   -0.6636   -1.3503   -0.0000 O   0  0  0  0  0  0  0  0  0  0  0  0\\n    0.7232   -1.3691   -0.0000 N   0  0  0  0  0  0  0  0  0  0  0  0\\n    1.0918   -0.0858   -0.0000 C   0  0  0  0  0  0  0  0  0  0  0  0\\n   -0.0251    1.8606   -0.0000 H   0  0  0  0  0  0  0  0  0  0  0  0\\n   -2.1645    0.0715    0.0000 H   0  0  0  0  0  0  0  0  0  0  0  0\\n    2.1457    0.1545    0.0000 H   0  0  0  0  0  0  0  0  0  0  0  0\\n  1  2  2  0\\n  2  3  1  0\\n  3  4  1  0\\n  4  5  2  0\\n  5  1  1  0\\n  1  6  1  0\\n  2  7  1  0\\n  5  8  1  0\\nM  END\\n\",\"mol\");\n",
       "\tviewergrid_17335929195642745[0][2].addModel(\"8\\n\\nC           -0.08083683106525        1.22080953370041        0.00022045707701\\nC           -1.09250960053830        0.30771203439320        0.00019726111159\\nO           -0.58453572760622       -0.92578158801966       -0.00009846370650\\nN            0.76249757734032       -0.85135809682103       -0.00007046716299\\nC            1.07936262502764        0.41218453672826        0.00013252490118\\nH           -0.14415936496314        2.28782887808547        0.00052031007787\\nH           -2.16012103010268        0.39986908256459        0.00043041969338\\nH            2.10693671350763        0.71376448136876        0.00043459760847\",\"xyz\");\n",
       "\tviewergrid_17335929195642745[0][0].setStyle({\"stick\": {}, \"sphere\": {\"scale\": 0.25}});\n",
       "\tviewergrid_17335929195642745[0][1].setStyle({\"stick\": {}, \"sphere\": {\"scale\": 0.25}});\n",
       "\tviewergrid_17335929195642745[0][2].setStyle({\"stick\": {}, \"sphere\": {\"scale\": 0.25}});\n",
       "\tviewergrid_17335929195642745[0][0].setViewStyle({\"style\": \"outline\", \"width\": 0.05});\n",
       "\tviewergrid_17335929195642745[0][1].setViewStyle({\"style\": \"outline\", \"width\": 0.05});\n",
       "\tviewergrid_17335929195642745[0][2].setViewStyle({\"style\": \"outline\", \"width\": 0.05});\n",
       "\tviewergrid_17335929195642745[0][0].addLabel(\"RDKit Molecule\",{\"position\": {\"x\": -2, \"y\": -3, \"z\": 0}});\n",
       "\tviewergrid_17335929195642745[0][1].addLabel(\"RDKit Molecule MMFF94\",{\"position\": {\"x\": -4, \"y\": -3, \"z\": 0}});\n",
       "\tviewergrid_17335929195642745[0][2].addLabel(\"xTB Molecule\",{\"position\": {\"x\": -2, \"y\": -3, \"z\": 0}});\n",
       "\tviewergrid_17335929195642745[0][0].zoomTo();\n",
       "\tviewergrid_17335929195642745[0][1].zoomTo();\n",
       "\tviewergrid_17335929195642745[0][2].zoomTo();\n",
       "viewergrid_17335929195642745[0][2].render();\n",
       "viewergrid_17335929195642745[0][1].render();\n",
       "viewergrid_17335929195642745[0][0].render();\n",
       "});\n",
       "</script>"
      ]
     },
     "metadata": {},
     "output_type": "display_data"
    }
   ],
   "source": [
    "# Create the viewer object\n",
    "viewer = py3Dmol.view(viewergrid=(1, 3), width=300*3, height=250, linked=True)\n",
    "\n",
    "# Add the molecules to the viewer\n",
    "viewer.addModel(Chem.MolToMolBlock(mol_rdkitNop3D), 'mol', viewer=(0, 0))\n",
    "viewer.addModel(Chem.MolToMolBlock(mol_rdkitOp3D), 'mol', viewer=(0, 1))\n",
    "viewer.addModel(mol_xtb_xyz, \"xyz\", viewer=(0, 2))\n",
    "\n",
    "# Set the view style\n",
    "viewer.setStyle({\"stick\": {}, \"sphere\": {\"scale\": 0.25}})\n",
    "viewer.setViewStyle({\"style\": \"outline\", \"width\": 0.05})\n",
    "\n",
    "# Add legends for each molecule\n",
    "viewer.addLabel('RDKit Molecule', {'position': {'x': -2, 'y': -3, 'z': 0}}, viewer=(0, 0))\n",
    "viewer.addLabel('RDKit Molecule MMFF94', {'position': {'x': -4, 'y': -3, 'z': 0}}, viewer=(0, 1))\n",
    "viewer.addLabel('xTB Molecule', {'position': {'x': -2, 'y': -3, 'z': 0}}, viewer=(0, 2))\n",
    "\n",
    "# Adjust the zoom level\n",
    "viewer.zoomTo()\n",
    "\n",
    "# Display the viewer\n",
    "viewer.show()"
   ]
  },
  {
   "cell_type": "markdown",
   "id": "081141c1-3e6b-4ee8-98d5-bcc4570da056",
   "metadata": {},
   "source": [
    "### Extraction du gap HOMO-LUMO\n",
    "\n",
    "\n",
    "### Gap HOMO-LUMO et gap énergétique\n",
    "\n",
    "Le **gap HOMO-LUMO** et le **gap énergétique** sont deux concepts liés mais distincts en chimie et physique moléculaire.\n",
    "\n",
    "![Molecule_HOMO-LUMO_diagram.png](attachment:f31e838c-1944-4572-b7bc-b2ee5632595d.png)      ![06465_C05_03.png](attachment:2f656365-1e38-4ff8-a1a3-814849cf083b.png)\n",
    "\n",
    "\n",
    "\n",
    "**Gap HOMO-LUMO** :\n",
    "* Le gap HOMO-LUMO fait référence à la différence d'énergie entre l'orbitale moléculaire occupée la plus haute (HOMO) et l'orbitale moléculaire inoccupée la plus basse (LUMO);\n",
    "* Il s'agit d'une propriété fondamentale d'une molécule qui détermine en partie sa réactivité chimique et ses propriétés électroniques;\n",
    "* Un gap HOMO-LUMO important indique généralement une molécule plus stable et moins réactive.\n",
    "       \n",
    "\n",
    "**Gap énergétique** :\n",
    "* Le gap énergétique fait référence à la différence d'énergie entre deux niveaux d'énergie d'un système, comme par exemple entre la bande de valence et la bande de conduction dans un solide.\n",
    "* Dans le cas des molécules, le gap énergétique peut correspondre à la différence d'énergie entre différents états électroniques de la molécule, comme l'état fondamental et un état excité.\n",
    "* Le gap énergétique est une propriété importante qui détermine les propriétés optiques, électriques et photophysiques d'un matériau ou d'une molécule.\n",
    "* Le gap énergétique peut être mesuré expérimentalement par des techniques spectroscopiques, ou calculé théoriquement à l'aide de méthodes de chimie quantique."
   ]
  },
  {
   "cell_type": "code",
   "execution_count": 37,
   "id": "f48ad5fb-c686-4180-82c5-2842c596741f",
   "metadata": {},
   "outputs": [
    {
     "name": "stdout",
     "output_type": "stream",
     "text": [
      "Le gap HOMO-LUMO vaut 4.422737575711 eV\n"
     ]
    }
   ],
   "source": [
    "#---------------------------------------------------------------------\n",
    "# Extract the total energy and Homo-lumo gap from the xtb log file\n",
    "#---------------------------------------------------------------------\n",
    "# Find HOMO-LUMO GAP value\n",
    "HL_gap_line = [li for li in path_xtb_logOp.read_text().splitlines() if 'HOMO-LUMO GAP' in li]\n",
    "HL_gap_line = HL_gap_line[0].split()\n",
    "HL_gap_xtb = float(HL_gap_line[3])\n",
    "\n",
    "print(f'Le gap HOMO-LUMO vaut {HL_gap_xtb} eV')"
   ]
  },
  {
   "cell_type": "code",
   "execution_count": 38,
   "id": "c582561a-1e02-47e0-8a14-e7a5772e8936",
   "metadata": {},
   "outputs": [],
   "source": [
    "#---------------------------------------------------------------------\n",
    "# Extract the total energy and Homo-lumo gap from the xtb output file\n",
    "#---------------------------------------------------------------------\n",
    "# Find TOTAL ENERGY value\n",
    "tot_energy_line = [li for li in path_xtb_logOp.read_text().splitlines() if 'TOTAL ENERGY' in li]\n",
    "tot_energy_line = tot_energy_line[0].split()\n",
    "tot_energy_xtb = float(tot_energy_line[3])\n",
    "\n",
    "# Find HOMO-LUMO GAP value\n",
    "HL_gap_line = [li for li in path_xtb_logOp.read_text().splitlines() if 'HOMO-LUMO GAP' in li]\n",
    "HL_gap_line = HL_gap_line[0].split()\n",
    "HL_gap_xtb = float(HL_gap_line[3])\n",
    "\n",
    "# Find HOMO index\n",
    "Homo_idx_line = [li for li in path_xtb_logOp.read_text().splitlines() if '(HOMO)' in li]\n",
    "Homo_idx_line = Homo_idx_line[0].split()\n",
    "Homo_idx_xtb = int(Homo_idx_line[0])\n",
    "\n",
    "# Find LUMO index\n",
    "Lumo_idx_line = [li for li in path_xtb_logOp.read_text().splitlines() if '(LUMO)' in li]\n",
    "Lumo_idx_line = Lumo_idx_line[0].split()\n",
    "Lumo_idx_xtb = int(Lumo_idx_line[0])"
   ]
  },
  {
   "cell_type": "code",
   "execution_count": 39,
   "id": "6b60c39c-3a3d-47bc-85eb-ce743a389fdd",
   "metadata": {},
   "outputs": [
    {
     "data": {
      "text/html": [
       "<div>\n",
       "<style scoped>\n",
       "    .dataframe tbody tr th:only-of-type {\n",
       "        vertical-align: middle;\n",
       "    }\n",
       "\n",
       "    .dataframe tbody tr th {\n",
       "        vertical-align: top;\n",
       "    }\n",
       "\n",
       "    .dataframe thead th {\n",
       "        text-align: right;\n",
       "    }\n",
       "</style>\n",
       "<table border=\"1\" class=\"dataframe\">\n",
       "  <thead>\n",
       "    <tr style=\"text-align: right;\">\n",
       "      <th></th>\n",
       "      <th>xtb calc</th>\n",
       "    </tr>\n",
       "  </thead>\n",
       "  <tbody>\n",
       "    <tr>\n",
       "      <th>HOMO-LUMO GAP (eV)</th>\n",
       "      <td>4.422738</td>\n",
       "    </tr>\n",
       "    <tr>\n",
       "      <th>TOTAL ENERGY (a.u.)</th>\n",
       "      <td>-14.882829</td>\n",
       "    </tr>\n",
       "    <tr>\n",
       "      <th>HOMO Index</th>\n",
       "      <td>13.000000</td>\n",
       "    </tr>\n",
       "    <tr>\n",
       "      <th>LUMO Index</th>\n",
       "      <td>14.000000</td>\n",
       "    </tr>\n",
       "  </tbody>\n",
       "</table>\n",
       "</div>"
      ],
      "text/plain": [
       "                      xtb calc\n",
       "HOMO-LUMO GAP (eV)    4.422738\n",
       "TOTAL ENERGY (a.u.) -14.882829\n",
       "HOMO Index           13.000000\n",
       "LUMO Index           14.000000"
      ]
     },
     "execution_count": 39,
     "metadata": {},
     "output_type": "execute_result"
    }
   ],
   "source": [
    "import pandas as pd\n",
    "\n",
    "# Create the xtb results dataframe\n",
    "df_xtb = pd.DataFrame({'xtb calc':[HL_gap_xtb, tot_energy_xtb, Homo_idx_xtb, Lumo_idx_xtb]}, \n",
    "index=[\"HOMO-LUMO GAP (eV)\",\"TOTAL ENERGY (a.u.)\", \"HOMO Index\", \"LUMO Index\"])\n",
    "\n",
    "# Save the xtb results dataframe to a file\n",
    "with open(path_xtb_csv, \"w\") as f:\n",
    "    f.write(f\"\\n\\nxtb calculations of {smi_key}  \\n\")\n",
    "    df_xtb.to_csv(f)\n",
    "    \n",
    "df_xtb"
   ]
  },
  {
   "cell_type": "markdown",
   "id": "1e5d8e1b-0546-4623-a530-782edf762fbd",
   "metadata": {},
   "source": [
    "*  **0 eV ≤ HOMO-LUMO GAP ≤ 5 eV** ce résultat de calcul xtb montre que la molécule peut etre considerer comme un **sémi-conducteur** et de plus, **1,5 eV ≤ HOMO-LUMO GAP ≤ 3eV** , ce qui est favorable à l'émission de la lumière visible, respectivement du bleu au rouge ."
   ]
  },
  {
   "cell_type": "markdown",
   "id": "9cc17956-6a26-4564-bdab-e3762dbe1cb8",
   "metadata": {},
   "source": [
    "### Calcul du champ moyen HF\n",
    "\n",
    "A l'issue de ce calcul, nous avons l'énergie de référence SCF. \n",
    "\n",
    "#### Choix de l'ensemble de base \n",
    "\n",
    "Nous allons d'abord effectuer le choix de l'ensemble de base nous donnant le meilleur compromis précision de la valeur de l'énergie et temps de calculs."
   ]
  },
  {
   "cell_type": "code",
   "execution_count": 40,
   "id": "ba89b64a-2c48-434c-b285-4c71b174c19d",
   "metadata": {},
   "outputs": [],
   "source": [
    "import time, datetime\n",
    "\n",
    "from pyscf import gto, scf \n"
   ]
  },
  {
   "cell_type": "code",
   "execution_count": 41,
   "id": "21540681-fb74-4c55-9fa2-718d768fbd17",
   "metadata": {},
   "outputs": [],
   "source": [
    "\n",
    "# Convert mol_rdkit object to Pyscf Mol objects\n",
    "mol_xyz = '\\n'.join(mol_xtb_xyz.strip().split('\\n')[2:])\n",
    "\n",
    "mol_pyscf = gto.Mole(\n",
    "    atom=mol_xyz,\n",
    "    charge=0,\n",
    "    spin = 0,\n",
    "    symmetry = True,\n",
    "    unit = 'Angstrom')"
   ]
  },
  {
   "cell_type": "code",
   "execution_count": 42,
   "id": "aeb83cd3-7c9f-48c8-8186-2cd6b6617730",
   "metadata": {},
   "outputs": [],
   "source": [
    "basis_sets = [\n",
    "    \"6-31G\",            # Double zeta with 6 Gaussian primitives\n",
    "    \"6-31G*\",           # Double zeta with 6 Gaussian primitives\n",
    "    \"6-31G(d,p)\",       # Double zeta with 6 Gaussian primitives with polarization functions and diffuse functions\n",
    "    \"6-311G(d,p)\",      # Triple zeta with polarization functions\n",
    "    \"def2-SVP\",         # Double zeta with polarization functions\n",
    "    \"def2-SVPD\",        # Double zeta with polarization functions and diffuse functions\n",
    "    \"def2-TZVP\",        # Triple zeta with polarization functions\n",
    "    \"def2-TZVPD\",       # Triple zeta with polarization functions and diffuse functions\n",
    "    \"def2-TZVPP\"        # Triple zeta with polarization functions and diffuse functions\n",
    "]"
   ]
  },
  {
   "cell_type": "code",
   "execution_count": 43,
   "id": "c7975506-432c-4dce-921d-bf151d957545",
   "metadata": {},
   "outputs": [
    {
     "name": "stdout",
     "output_type": "stream",
     "text": [
      "converged SCF energy = -244.461407120056\n",
      "converged SCF energy = -244.585603916736\n",
      "converged SCF energy = -244.591547006285\n",
      "converged SCF energy = -244.644894039596\n",
      "converged SCF energy = -244.396508349643\n",
      "converged SCF energy = -244.408760557123\n",
      "converged SCF energy = -244.68321037473\n",
      "converged SCF energy = -244.683929464466\n",
      "converged SCF energy = -244.684380136342\n"
     ]
    }
   ],
   "source": [
    "# To write output results of mf.analysis on a file\n",
    "# path_HF_basis_log = working_dir / f'{smi_key}_HF_basis.log'\n",
    "# mol_pyscf.output = path_HF_basis_log\n",
    "\n",
    "mf_energies = list()\n",
    "mf_times = list()\n",
    "nb_prim = list()\n",
    "\n",
    "# Perform a Mean-Field calculation for each basis set\n",
    "for bs in basis_sets:\n",
    "\n",
    "    # Measure execution time\n",
    "    start = time.time()\n",
    "    mol_pyscf.basis = bs\n",
    "    mol_pyscf.build()\n",
    "\n",
    "    mf = scf.RHF(mol_pyscf) # Create a PySCF HF mean-field object\n",
    "    mf.x2c().density_fit() # To speed up calculations\n",
    "    mf.kernel()\n",
    "    end = time.time()\n",
    "\n",
    "    nb_prim.append(mol_pyscf.npgto_nr())\n",
    "    mf_energies.append(mf.e_tot)\n",
    "    mf_times.append(end-start)"
   ]
  },
  {
   "cell_type": "code",
   "execution_count": 44,
   "id": "803bfcaf-29ec-4ab4-af72-e327fb7ebe6e",
   "metadata": {},
   "outputs": [
    {
     "data": {
      "text/html": [
       "<div>\n",
       "<style scoped>\n",
       "    .dataframe tbody tr th:only-of-type {\n",
       "        vertical-align: middle;\n",
       "    }\n",
       "\n",
       "    .dataframe tbody tr th {\n",
       "        vertical-align: top;\n",
       "    }\n",
       "\n",
       "    .dataframe thead th {\n",
       "        text-align: right;\n",
       "    }\n",
       "</style>\n",
       "<table border=\"1\" class=\"dataframe\">\n",
       "  <thead>\n",
       "    <tr style=\"text-align: right;\">\n",
       "      <th></th>\n",
       "      <th>Basis</th>\n",
       "      <th>Nb of GTO primitives</th>\n",
       "      <th>Total energy (a.u.)</th>\n",
       "      <th>Time (s)</th>\n",
       "    </tr>\n",
       "  </thead>\n",
       "  <tbody>\n",
       "    <tr>\n",
       "      <th>0</th>\n",
       "      <td>6-31G</td>\n",
       "      <td>122</td>\n",
       "      <td>-244.461407</td>\n",
       "      <td>3.984422</td>\n",
       "    </tr>\n",
       "    <tr>\n",
       "      <th>1</th>\n",
       "      <td>6-31G*</td>\n",
       "      <td>147</td>\n",
       "      <td>-244.585604</td>\n",
       "      <td>4.722251</td>\n",
       "    </tr>\n",
       "    <tr>\n",
       "      <th>2</th>\n",
       "      <td>6-31G(d,p)</td>\n",
       "      <td>156</td>\n",
       "      <td>-244.591547</td>\n",
       "      <td>5.433956</td>\n",
       "    </tr>\n",
       "    <tr>\n",
       "      <th>3</th>\n",
       "      <td>6-311G(d,p)</td>\n",
       "      <td>179</td>\n",
       "      <td>-244.644894</td>\n",
       "      <td>11.153949</td>\n",
       "    </tr>\n",
       "    <tr>\n",
       "      <th>4</th>\n",
       "      <td>def2-SVP</td>\n",
       "      <td>141</td>\n",
       "      <td>-244.396508</td>\n",
       "      <td>6.288489</td>\n",
       "    </tr>\n",
       "    <tr>\n",
       "      <th>5</th>\n",
       "      <td>def2-SVPD</td>\n",
       "      <td>183</td>\n",
       "      <td>-244.408761</td>\n",
       "      <td>13.924615</td>\n",
       "    </tr>\n",
       "    <tr>\n",
       "      <th>6</th>\n",
       "      <td>def2-TZVP</td>\n",
       "      <td>254</td>\n",
       "      <td>-244.683210</td>\n",
       "      <td>42.157358</td>\n",
       "    </tr>\n",
       "    <tr>\n",
       "      <th>7</th>\n",
       "      <td>def2-TZVPD</td>\n",
       "      <td>296</td>\n",
       "      <td>-244.683929</td>\n",
       "      <td>54.348229</td>\n",
       "    </tr>\n",
       "    <tr>\n",
       "      <th>8</th>\n",
       "      <td>def2-TZVPP</td>\n",
       "      <td>278</td>\n",
       "      <td>-244.684380</td>\n",
       "      <td>33.803511</td>\n",
       "    </tr>\n",
       "  </tbody>\n",
       "</table>\n",
       "</div>"
      ],
      "text/plain": [
       "         Basis  Nb of GTO primitives  Total energy (a.u.)   Time (s)\n",
       "0        6-31G                   122          -244.461407   3.984422\n",
       "1       6-31G*                   147          -244.585604   4.722251\n",
       "2   6-31G(d,p)                   156          -244.591547   5.433956\n",
       "3  6-311G(d,p)                   179          -244.644894  11.153949\n",
       "4     def2-SVP                   141          -244.396508   6.288489\n",
       "5    def2-SVPD                   183          -244.408761  13.924615\n",
       "6    def2-TZVP                   254          -244.683210  42.157358\n",
       "7   def2-TZVPD                   296          -244.683929  54.348229\n",
       "8   def2-TZVPP                   278          -244.684380  33.803511"
      ]
     },
     "execution_count": 44,
     "metadata": {},
     "output_type": "execute_result"
    }
   ],
   "source": [
    "# Create the results dataframe\n",
    "\n",
    "df_HF = pd.DataFrame({\"Basis\":basis_sets, \n",
    "                      'Nb of GTO primitives':nb_prim, \n",
    "                      'Total energy (a.u.)':mf_energies,\n",
    "                      \"Time (s)\":mf_times})\n",
    "\n",
    "df_HF\n"
   ]
  },
  {
   "cell_type": "code",
   "execution_count": 45,
   "id": "107e63c8-1524-43c7-977c-f4cb429930eb",
   "metadata": {},
   "outputs": [
    {
     "data": {
      "image/png": "[encoded data removed]",
      "text/plain": [
       "<Figure size 800x500 with 2 Axes>"
      ]
     },
     "metadata": {},
     "output_type": "display_data"
    }
   ],
   "source": [
    "import matplotlib.pyplot as plt\n",
    "\n",
    "# Create the matplotlib figure\n",
    "fig, ax = plt.subplots(figsize=(8,5))\n",
    "\n",
    "# Plot the energies.\n",
    "ax.set_xticks(range(len(basis_sets)), basis_sets, rotation=45)\n",
    "ax.set_xlabel(\"Basis set\")\n",
    "ax.set_ylabel(\"Energy / Hartree\", color=\"b\")\n",
    "ax.scatter(range(len(basis_sets)), mf_energies, marker=\"o\", s=50, color=\"b\")\n",
    "\n",
    "# Plot the time to solution\n",
    "ax_time = ax.twinx()\n",
    "ax_time.scatter(range(len(basis_sets)), mf_times, marker=\"s\", s=50, color=\"r\")\n",
    "ax_time.set_ylabel(\"Time to solution / s\", color=\"r\", rotation=270, va=\"bottom\")\n",
    "\n",
    "# Show the graph\n",
    "plt.tick_params(axis=\"both\", direction=\"in\")\n",
    "plt.show()"
   ]
  },
  {
   "cell_type": "code",
   "execution_count": 46,
   "id": "01fbf0c5-ab63-4471-843c-1c27d4389320",
   "metadata": {},
   "outputs": [
    {
     "name": "stdout",
     "output_type": "stream",
     "text": [
      "Le nombre total d'électrons est 36 et le nombre total d'électrons (alpha, béta) est (18, 18)\n",
      "Le nombre d'orbitales atomiques, dans la base def2-TZVPP, est 197\n",
      "L'énergie nucléaire vaut 163.6585712480624 Hartrees\n"
     ]
    }
   ],
   "source": [
    "print(f'Le nombre total d\\'électrons est {mol_pyscf.nelectron} et le nombre total d\\'électrons (alpha, béta) est {mol_pyscf.nelec}')\n",
    "print(f'Le nombre d\\'orbitales atomiques, dans la base {mol_pyscf.basis}, est {mol_pyscf.nao_nr()}')\n",
    "print(f'L\\'énergie nucléaire vaut {mol_pyscf.energy_nuc()} Hartrees')"
   ]
  },
  {
   "cell_type": "markdown",
   "id": "54042d8d-1c67-42da-ab0e-0c1bf5cbec89",
   "metadata": {},
   "source": [
    "## Calculons l'energie Hartree-Fock (HF)"
   ]
  },
  {
   "cell_type": "code",
   "execution_count": 47,
   "id": "5862bcaa-e161-45bc-9b7c-5e35532e04f0",
   "metadata": {},
   "outputs": [],
   "source": [
    "from pyscf import scf"
   ]
  },
  {
   "cell_type": "code",
   "execution_count": 48,
   "id": "12ad0d2b-9771-49ae-a925-97e520c9bc9b",
   "metadata": {},
   "outputs": [
    {
     "name": "stdout",
     "output_type": "stream",
     "text": [
      "converged SCF energy = -244.684380136342\n",
      "Énergie totale HF : -244.68438013634199\n",
      "Temps de calcul HF : 94.72959351539612 secondes\n"
     ]
    }
   ],
   "source": [
    "import time\n",
    "start_hf = time.time()\n",
    "myhf = scf.RHF(mol_pyscf).run()\n",
    "hf_energy = myhf.e_tot\n",
    "hf_time = time.time() - start_hf\n",
    "\n",
    "print(\"Énergie totale HF :\", hf_energy)\n",
    "print(\"Temps de calcul HF :\", hf_time, \"secondes\")\n"
   ]
  },
  {
   "cell_type": "code",
   "execution_count": 49,
   "id": "2f095976-88b8-4043-a9cc-3707dd24ee88",
   "metadata": {},
   "outputs": [
    {
     "data": {
      "text/plain": [
       "array([2., 2., 2., 2., 2., 2., 2., 2., 2., 2., 2., 2., 2., 2., 2., 2., 2.,\n",
       "       2., 0., 0., 0., 0., 0., 0., 0., 0., 0., 0., 0., 0., 0., 0., 0., 0.,\n",
       "       0., 0., 0., 0., 0., 0., 0., 0., 0., 0., 0., 0., 0., 0., 0., 0., 0.,\n",
       "       0., 0., 0., 0., 0., 0., 0., 0., 0., 0., 0., 0., 0., 0., 0., 0., 0.,\n",
       "       0., 0., 0., 0., 0., 0., 0., 0., 0., 0., 0., 0., 0., 0., 0., 0., 0.,\n",
       "       0., 0., 0., 0., 0., 0., 0., 0., 0., 0., 0., 0., 0., 0., 0., 0., 0.,\n",
       "       0., 0., 0., 0., 0., 0., 0., 0., 0., 0., 0., 0., 0., 0., 0., 0., 0.,\n",
       "       0., 0., 0., 0., 0., 0., 0., 0., 0., 0., 0., 0., 0., 0., 0., 0., 0.,\n",
       "       0., 0., 0., 0., 0., 0., 0., 0., 0., 0., 0., 0., 0., 0., 0., 0., 0.,\n",
       "       0., 0., 0., 0., 0., 0., 0., 0., 0., 0., 0., 0., 0., 0., 0., 0., 0.,\n",
       "       0., 0., 0., 0., 0., 0., 0., 0., 0., 0., 0., 0., 0., 0., 0., 0., 0.,\n",
       "       0., 0., 0., 0., 0., 0., 0., 0., 0., 0.])"
      ]
     },
     "execution_count": 49,
     "metadata": {},
     "output_type": "execute_result"
    }
   ],
   "source": [
    "myhf.mo_occ #- Occupation MO (vecteur de longueur égale au nombre de MO)"
   ]
  },
  {
   "cell_type": "code",
   "execution_count": 50,
   "id": "04f1d007-3d3c-45fc-9d88-7a272d3a3a7f",
   "metadata": {},
   "outputs": [
    {
     "name": "stdout",
     "output_type": "stream",
     "text": [
      "Les indexes du (HOMO,LUMO) sont (17, 18)\n"
     ]
    }
   ],
   "source": [
    "lumo_idx = myhf.mo_occ.tolist().index(0.)\n",
    "homo_idx = lumo_idx - 1\n",
    "print(f'Les indexes du (HOMO,LUMO) sont {homo_idx,lumo_idx}')"
   ]
  },
  {
   "cell_type": "markdown",
   "id": "d0cfc28e-05f0-4dc0-bf92-f5f481bfbe70",
   "metadata": {},
   "source": [
    "##   Calcul DFT"
   ]
  },
  {
   "cell_type": "code",
   "execution_count": 51,
   "id": "7508ae6f-a02d-412d-be66-68b0349a5f08",
   "metadata": {},
   "outputs": [],
   "source": [
    "from pyscf import dft"
   ]
  },
  {
   "cell_type": "code",
   "execution_count": null,
   "id": "7643bb85-47f7-447c-aaaf-1b389228dd9a",
   "metadata": {},
   "outputs": [
    {
     "name": "stderr",
     "output_type": "stream",
     "text": [
      "/home/aissatou/mambaforge/lib/python3.10/site-packages/pyscf/dft/libxc.py:1102: UserWarning: Since PySCF-2.3, B3LYP (and B3P86) are changed to the VWN-RPA variant, corresponding to the original definition by Stephens et al. (issue 1480) and the same as the B3LYP functional in Gaussian. To restore the VWN5 definition, you can put the setting \"B3LYP_WITH_VWN5 = True\" in pyscf_conf.py\n",
      "  warnings.warn('Since PySCF-2.3, B3LYP (and B3P86) are changed to the VWN-RPA variant, '\n"
     ]
    }
   ],
   "source": [
    "start_myks = time.time()\n",
    "myks = dft.RKS(mol_pyscf, xc=\"B3LYP\").run()\n",
    "myks_time = time.time() - start_myks\n",
    "\n",
    "print(\"Énergie totale DFT :\", myks.e_tot)\n",
    "print(\"Temps de calcul DFT :\", myks_time, \"secondes\")"
   ]
  },
  {
   "cell_type": "code",
   "execution_count": null,
   "id": "60485b90-4957-4df2-9ce3-55dbbca3d28c",
   "metadata": {},
   "outputs": [],
   "source": []
  }
 ],
 "metadata": {
  "kernelspec": {
   "display_name": "Python 3 (ipykernel)",
   "language": "python",
   "name": "python3"
  },
  "language_info": {
   "codemirror_mode": {
    "name": "ipython",
    "version": 3
   },
   "file_extension": ".py",
   "mimetype": "text/x-python",
   "name": "python",
   "nbconvert_exporter": "python",
   "pygments_lexer": "ipython3",
   "version": "3.10.12"
  }
 },
 "nbformat": 4,
 "nbformat_minor": 5
}
